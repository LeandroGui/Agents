{
  "nbformat": 4,
  "nbformat_minor": 0,
  "metadata": {
    "colab": {
      "provenance": [],
      "collapsed_sections": [
        "3K46WmYtCVUM",
        "W_CTg08JCdi1",
        "2sgjIZwwIuFf",
        "0djSyCn-JlvR",
        "r4Nt3cW4Jpni",
        "t9K09GoGQuS-",
        "Q-Mo95UbFih0"
      ]
    },
    "kernelspec": {
      "name": "python3",
      "display_name": "Python 3"
    },
    "language_info": {
      "name": "python"
    }
  },
  "cells": [
    {
      "cell_type": "markdown",
      "source": [
        "# History, Data Analysis and CS Political Collaboration System"
      ],
      "metadata": {
        "id": "ORmUFICNB2Dr"
      }
    },
    {
      "cell_type": "markdown",
      "source": [
        "# Overview\n",
        "\n",
        "This notebook implements a multi-agent collaboration system that combines historical research with data analysis and political science expert to answer complex historical questions. It leverages the power of large language models to simulate specialized agents working together to provide comprehensive answers."
      ],
      "metadata": {
        "id": "7ySecElPBDqC"
      }
    },
    {
      "cell_type": "markdown",
      "source": [
        "# Setup"
      ],
      "metadata": {
        "id": "3K46WmYtCVUM"
      }
    },
    {
      "cell_type": "code",
      "source": [
        "# Install Modules for the RAG\n",
        "!pip install beyondllm\n",
        "!pip install llama-index-embeddings-gemini\n",
        "!pip install llama-index-readers-web"
      ],
      "metadata": {
        "id": "UQ8-Rrj6r7Xt"
      },
      "execution_count": null,
      "outputs": []
    },
    {
      "cell_type": "code",
      "source": [
        "# Install Modules required for the Agent\n",
        "!pip install -q -U langchain\n",
        "!pip install --upgrade --quiet  langchain-google-genai\n",
        "!pip install -q -U duckduckgo-search langchain-community\n",
        "!pip install -q -U google-generativeai\n"
      ],
      "metadata": {
        "id": "6ZNWnhHwfOcc",
        "colab": {
          "base_uri": "https://localhost:8080/"
        },
        "outputId": "fd5eece2-c27b-45c2-893c-eeaed7c1eacf"
      },
      "execution_count": null,
      "outputs": [
        {
          "output_type": "stream",
          "name": "stdout",
          "text": [
            "\u001b[2K   \u001b[90m━━━━━━━━━━━━━━━━━━━━━━━━━━━━━━━━━━━━━━━━\u001b[0m \u001b[32m41.3/41.3 kB\u001b[0m \u001b[31m2.4 MB/s\u001b[0m eta \u001b[36m0:00:00\u001b[0m\n",
            "\u001b[2K   \u001b[90m━━━━━━━━━━━━━━━━━━━━━━━━━━━━━━━━━━━━━━━━\u001b[0m \u001b[32m2.4/2.4 MB\u001b[0m \u001b[31m41.6 MB/s\u001b[0m eta \u001b[36m0:00:00\u001b[0m\n",
            "\u001b[2K   \u001b[90m━━━━━━━━━━━━━━━━━━━━━━━━━━━━━━━━━━━━━━━━\u001b[0m \u001b[32m3.0/3.0 MB\u001b[0m \u001b[31m72.5 MB/s\u001b[0m eta \u001b[36m0:00:00\u001b[0m\n",
            "\u001b[2K   \u001b[90m━━━━━━━━━━━━━━━━━━━━━━━━━━━━━━━━━━━━━━━━\u001b[0m \u001b[32m49.5/49.5 kB\u001b[0m \u001b[31m3.6 MB/s\u001b[0m eta \u001b[36m0:00:00\u001b[0m\n",
            "\u001b[?25h"
          ]
        }
      ]
    },
    {
      "cell_type": "code",
      "source": [
        "# Modules web search\n",
        "!pip install -q -U google-search-results"
      ],
      "metadata": {
        "colab": {
          "base_uri": "https://localhost:8080/"
        },
        "id": "tn5MTOuA5Zpk",
        "outputId": "8b35c7c2-d742-40b7-f6cb-4d3cd3af06ce"
      },
      "execution_count": null,
      "outputs": [
        {
          "output_type": "stream",
          "name": "stdout",
          "text": [
            "  Preparing metadata (setup.py) ... \u001b[?25l\u001b[?25hdone\n",
            "  Building wheel for google-search-results (setup.py) ... \u001b[?25l\u001b[?25hdone\n"
          ]
        }
      ]
    },
    {
      "cell_type": "code",
      "execution_count": null,
      "metadata": {
        "id": "O9leWvHqgg8k"
      },
      "outputs": [],
      "source": [
        "import os\n",
        "import time\n",
        "\n",
        "# Comment or uncomment according to installed modules\n",
        "\n",
        "from langchain_google_genai import GoogleGenerativeAI, HarmBlockThreshold, HarmCategory\n",
        "#from langchain_openai import ChatOpenAI\n",
        "from langchain.schema import HumanMessage, SystemMessage, AIMessage\n",
        "from langchain_community.tools import DuckDuckGoSearchRun\n",
        "from langchain_community.tools import DuckDuckGoSearchResults\n",
        "#from langchain_community.tools import JinaSearch\n",
        "#from langchain_community.tools.jina_search.tool import JinaSearch\n",
        "from langchain_community.tools import TavilySearchResults\n",
        "from langchain_community.utilities import SerpAPIWrapper\n",
        "from typing import List, Dict\n",
        "#from dotenv import load_dotenv\n",
        "\n",
        "import google.generativeai as genai\n",
        "\n",
        "#load_dotenv()\n",
        "#os.environ[\"OPENAI_API_KEY\"] = os.getenv('OPENAI_API_KEY')\n",
        "\n",
        "# Modules RAG\n",
        "#from beyondllm import source,retrieve,embeddings,llms,generator\n",
        "#from beyondllm.embeddings import GeminiEmbeddings\n",
        "\n",
        "from rich.console import Console\n",
        "from rich.markdown import Markdown\n",
        "\n",
        "from google.colab import userdata"
      ]
    },
    {
      "cell_type": "code",
      "source": [
        "# Config Gemini\n",
        "GOOGLE_API_KEY=userdata.get('GOOGLE_API_KEYL')\n",
        "genai.configure(api_key=GOOGLE_API_KEY)"
      ],
      "metadata": {
        "id": "ubkO58YpoSeJ"
      },
      "execution_count": null,
      "outputs": []
    },
    {
      "cell_type": "code",
      "source": [
        "# Tavily Api Key\n",
        "TAVILY_API_KEY=userdata.get('TAVILY_API_KEY')\n",
        "os.environ['TAVILY_API_KEY'] = TAVILY_API_KEY"
      ],
      "metadata": {
        "id": "UwKFoVCjoBtx"
      },
      "execution_count": null,
      "outputs": []
    },
    {
      "cell_type": "code",
      "source": [
        "# SerpApiKey\n",
        "SERPAPI_API_KEY= userdata.get('SERPAPI_API_KEY')\n",
        "os.environ['SERPAPI_API_KEY'] = SERPAPI_API_KEY"
      ],
      "metadata": {
        "id": "hS9a6DIf3eX1"
      },
      "execution_count": null,
      "outputs": []
    },
    {
      "cell_type": "code",
      "source": [
        "from google.colab import drive\n",
        "drive.mount('/content/drive')"
      ],
      "metadata": {
        "id": "_8-auSK_oV-u",
        "colab": {
          "base_uri": "https://localhost:8080/"
        },
        "outputId": "6b191192-be3b-467f-bdd6-f59586e22cc1"
      },
      "execution_count": null,
      "outputs": [
        {
          "output_type": "stream",
          "name": "stdout",
          "text": [
            "Mounted at /content/drive\n"
          ]
        }
      ]
    },
    {
      "cell_type": "code",
      "source": [
        "# Gemini model list\n",
        "print(\"List of models that support generateContent:\\n\")\n",
        "for m in genai.list_models():\n",
        "    if \"generateContent\" in m.supported_generation_methods:\n",
        "        print(m.name)\n",
        "\n",
        "print(\"List of models that support embedContent:\\n\")\n",
        "for m in genai.list_models():\n",
        "    if \"embedContent\" in m.supported_generation_methods:\n",
        "        print(m.name)"
      ],
      "metadata": {
        "id": "tlLFKssTkF1I",
        "colab": {
          "base_uri": "https://localhost:8080/",
          "height": 590
        },
        "outputId": "dd0e8e94-6ab5-4de0-88c0-9d332fbc5171"
      },
      "execution_count": null,
      "outputs": [
        {
          "output_type": "stream",
          "name": "stdout",
          "text": [
            "List of models that support generateContent:\n",
            "\n",
            "models/gemini-1.0-pro-latest\n",
            "models/gemini-1.0-pro\n",
            "models/gemini-pro\n",
            "models/gemini-1.0-pro-001\n",
            "models/gemini-1.0-pro-vision-latest\n",
            "models/gemini-pro-vision\n",
            "models/gemini-1.5-pro-latest\n",
            "models/gemini-1.5-pro-001\n",
            "models/gemini-1.5-pro-002\n",
            "models/gemini-1.5-pro\n",
            "models/gemini-1.5-pro-exp-0801\n",
            "models/gemini-1.5-pro-exp-0827\n",
            "models/gemini-1.5-flash-latest\n",
            "models/gemini-1.5-flash-001\n",
            "models/gemini-1.5-flash-001-tuning\n",
            "models/gemini-1.5-flash\n",
            "models/gemini-1.5-flash-exp-0827\n",
            "models/gemini-1.5-flash-002\n",
            "models/gemini-1.5-flash-8b\n",
            "models/gemini-1.5-flash-8b-001\n",
            "models/gemini-1.5-flash-8b-latest\n",
            "models/gemini-1.5-flash-8b-exp-0827\n",
            "models/gemini-1.5-flash-8b-exp-0924\n",
            "models/learnlm-1.5-pro-experimental\n",
            "models/gemini-exp-1114\n",
            "models/gemini-exp-1121\n",
            "models/gemini-exp-1206\n",
            "List of models that support embedContent:\n",
            "\n",
            "models/embedding-001\n",
            "models/text-embedding-004\n"
          ]
        }
      ]
    },
    {
      "cell_type": "markdown",
      "source": [
        "# LLM"
      ],
      "metadata": {
        "id": "W_CTg08JCdi1"
      }
    },
    {
      "cell_type": "code",
      "source": [
        "# Initialize OpenAI model\n",
        "llm = ChatOpenAI(model=\"gpt-4o-mini\", max_tokens=1000, temperature=0.7)"
      ],
      "metadata": {
        "id": "FybOeM0k8ef4"
      },
      "execution_count": null,
      "outputs": []
    },
    {
      "cell_type": "code",
      "source": [
        "# Initialize Gemini model\n",
        "llm_g = GoogleGenerativeAI(\n",
        "    model=\"gemini-1.5-flash\",\n",
        "    google_api_key=GOOGLE_API_KEY,\n",
        "    safety_settings={\n",
        "        HarmCategory.HARM_CATEGORY_DANGEROUS_CONTENT: HarmBlockThreshold.BLOCK_NONE,\n",
        "    },generation_config=genai.types.GenerationConfig(\n",
        "        # Only one candidate for now.\n",
        "        #candidate_count=1,\n",
        "        #stop_sequences=[\"x\"],\n",
        "        max_output_tokens=1500,\n",
        "        temperature=0.8,\n",
        "    ),\n",
        "\n",
        ")\n"
      ],
      "metadata": {
        "id": "MF5dT9Qhh7xP"
      },
      "execution_count": null,
      "outputs": []
    },
    {
      "cell_type": "code",
      "source": [
        "# We test the response of the Gemini model from LangChain\n",
        "\n",
        "response_agent_output = llm_g.invoke(\n",
        "        \"In the area of ​​AI, which is a neural network? Develop an example of a simple neural network in python code. Respond in Spanish.\"\n",
        "    )"
      ],
      "metadata": {
        "id": "PH8UXuDw--jT"
      },
      "execution_count": null,
      "outputs": []
    },
    {
      "cell_type": "code",
      "source": [
        "print(response_agent_output)"
      ],
      "metadata": {
        "colab": {
          "base_uri": "https://localhost:8080/"
        },
        "id": "oqF9eQIHfUOI",
        "outputId": "459d6160-f897-492c-b23e-10d24d21a121"
      },
      "execution_count": null,
      "outputs": [
        {
          "output_type": "stream",
          "name": "stdout",
          "text": [
            "En el área de la IA, una red neuronal es un modelo computacional inspirado en la estructura y funcionamiento del cerebro humano.  Está compuesta por nodos (neuronas) interconectados que procesan información.  Estas neuronas se organizan en capas: una capa de entrada que recibe datos, una o más capas ocultas que realizan transformaciones no lineales de los datos, y una capa de salida que produce el resultado.  La información fluye entre las capas a través de conexiones ponderadas (sinapsis), y el aprendizaje se produce ajustando estos pesos para minimizar la diferencia entre la salida predicha y la salida deseada.\n",
            "\n",
            "A continuación, un ejemplo de una red neuronal simple en Python usando NumPy para la manipulación de matrices y la función sigmoide como función de activación:\n",
            "\n",
            "```python\n",
            "import numpy as np\n",
            "\n",
            "# Función sigmoide\n",
            "def sigmoid(x):\n",
            "  return 1 / (1 + np.exp(-x))\n",
            "\n",
            "# Derivada de la función sigmoide\n",
            "def sigmoid_derivative(x):\n",
            "  return x * (1 - x)\n",
            "\n",
            "# Estructura de la red neuronal (2 entradas, 1 neurona en la capa oculta, 1 salida)\n",
            "input_layer_size = 2\n",
            "hidden_layer_size = 1\n",
            "output_layer_size = 1\n",
            "\n",
            "# Pesos aleatorios (inicialización)\n",
            "weights_input_hidden = np.random.rand(input_layer_size, hidden_layer_size)\n",
            "weights_hidden_output = np.random.rand(hidden_layer_size, output_layer_size)\n",
            "\n",
            "# Datos de entrenamiento (ejemplo simple)\n",
            "X = np.array([[0, 0], [0, 1], [1, 0], [1, 1]])\n",
            "y = np.array([[0], [1], [1], [0]]) # XOR gate\n",
            "\n",
            "# Entrenamiento (algoritmo de retropropagación simple)\n",
            "epochs = 10000\n",
            "learning_rate = 0.1\n",
            "\n",
            "for epoch in range(epochs):\n",
            "  # Propagación hacia adelante\n",
            "  hidden_layer_input = np.dot(X, weights_input_hidden)\n",
            "  hidden_layer_output = sigmoid(hidden_layer_input)\n",
            "  output_layer_input = np.dot(hidden_layer_output, weights_hidden_output)\n",
            "  output_layer_output = sigmoid(output_layer_input)\n",
            "\n",
            "  # Error\n",
            "  error = y - output_layer_output\n",
            "\n",
            "  # Retropropagación\n",
            "  d_output = error * sigmoid_derivative(output_layer_output)\n",
            "  error_hidden_layer = d_output.dot(weights_hidden_output.T)\n",
            "  d_hidden_layer = error_hidden_layer * sigmoid_derivative(hidden_layer_output)\n",
            "\n",
            "  # Actualización de pesos\n",
            "  weights_hidden_output += hidden_layer_output.T.dot(d_output) * learning_rate\n",
            "  weights_input_hidden += X.T.dot(d_hidden_layer) * learning_rate\n",
            "\n",
            "# Predicción\n",
            "print(\"Predicciones:\")\n",
            "print(output_layer_output)\n",
            "```\n",
            "\n",
            "Este código implementa una red neuronal muy básica para aproximar una puerta XOR.  Es importante notar que este es un ejemplo simplificado y que redes neuronales reales para problemas complejos son mucho más grandes y utilizan algoritmos de optimización más sofisticados.  Este ejemplo sirve para ilustrar los conceptos fundamentales de propagación hacia adelante y retropropagación.  Para problemas más realistas, se recomienda usar bibliotecas como TensorFlow o PyTorch que ofrecen mayor eficiencia y funcionalidades.\n",
            "\n"
          ]
        }
      ]
    },
    {
      "cell_type": "code",
      "source": [
        "prompt_01 = \"\"\"Eres un experto en Ciencias Políticas y busqueda web, que utiliza los siguientes parametros para la creación de un prompt de busqueda web:\n",
        "Area = Ciencias Políticas\n",
        "Palabras claves = Estado, Contemporáneo, caracteristicas, causas, economía, politica, tensiones, gobernanza, desafios, Inteligencia Artificial.\n",
        "Sugerencias = Que es, cuales son las principales, cuales son las, describa las principales, como impacta, como influye.\n",
        "Ejemplos = 5\n",
        "Retorna los prompt de ejemplo con un separador de lineas (---).\n",
        "\"\"\"\n",
        "response_agent_output2 = llm_g.invoke(prompt_01)"
      ],
      "metadata": {
        "id": "VJ8AYRFDS7Rw"
      },
      "execution_count": null,
      "outputs": []
    },
    {
      "cell_type": "code",
      "source": [
        "print(type(response_agent_output2))"
      ],
      "metadata": {
        "colab": {
          "base_uri": "https://localhost:8080/"
        },
        "id": "afobq1fBEsZo",
        "outputId": "90114ba4-77a6-4305-fccd-9099029a6604"
      },
      "execution_count": null,
      "outputs": [
        {
          "output_type": "stream",
          "name": "stdout",
          "text": [
            "<class 'str'>\n"
          ]
        }
      ]
    },
    {
      "cell_type": "code",
      "source": [
        "# Output display\n",
        "print(\"-\" * 100)  # Separator\n",
        "Console().print(Markdown(response_agent_output2))"
      ],
      "metadata": {
        "id": "1z7-K6Ov_Zmc",
        "colab": {
          "base_uri": "https://localhost:8080/",
          "height": 514
        },
        "outputId": "26429019-c3c0-4f41-ffa4-18c762368f3c"
      },
      "execution_count": null,
      "outputs": [
        {
          "output_type": "stream",
          "name": "stdout",
          "text": [
            "----------------------------------------------------------------------------------------------------\n"
          ]
        },
        {
          "output_type": "display_data",
          "data": {
            "text/plain": [
              "Aquí tienes 5 ejemplos de prompts de búsqueda web, optimizados para un experto en Ciencias Políticas, utilizando   \n",
              "los parámetros especificados:                                                                                      \n",
              "\n",
              "\u001b[1;33m 1 \u001b[0m\u001b[1m\"Características del Estado contemporáneo: análisis de las tensiones entre gobernanza, economía política y la \u001b[0m  \n",
              "\u001b[1;33m   \u001b[0m\u001b[1minfluencia de la Inteligencia Artificial\"\u001b[0m  Este prompt es amplio, abarcando varios aspectos clave y utilizando  \n",
              "\u001b[1;33m   \u001b[0mun lenguaje académico.                                                                                          \n",
              "\n",
              "\u001b[33m───────────────────────────────────────────────────────────────────────────────────────────────────────────────────\u001b[0m\n",
              "\n",
              "\u001b[1;33m 2 \u001b[0m\u001b[1m\"¿Qué es el Estado contemporáneo? Describa las principales características y cómo la Inteligencia Artificial \u001b[0m   \n",
              "\u001b[1;33m   \u001b[0m\u001b[1mimpacta en su gobernanza y desafíos económicos.\"\u001b[0m  Este prompt es más directo y utiliza las \"sugerencias\"        \n",
              "\u001b[1;33m   \u001b[0mproporcionadas para guiar la búsqueda.                                                                          \n",
              "\n",
              "\u001b[33m───────────────────────────────────────────────────────────────────────────────────────────────────────────────────\u001b[0m\n",
              "\n",
              "\u001b[1;33m 3 \u001b[0m\u001b[1m\"Causas de las tensiones en el Estado contemporáneo: ¿Cómo influyen la economía política y el auge de la \u001b[0m       \n",
              "\u001b[1;33m   \u001b[0m\u001b[1mInteligencia Artificial en la gobernanza?\"\u001b[0m Este prompt se centra en las causas y las relaciones de causa-efecto,\n",
              "\u001b[1;33m   \u001b[0mutilizando un lenguaje preciso.                                                                                 \n",
              "\n",
              "\u001b[33m───────────────────────────────────────────────────────────────────────────────────────────────────────────────────\u001b[0m\n",
              "\n",
              "\u001b[1;33m 4 \u001b[0m\u001b[1m\"Cuáles son las principales características del Estado contemporáneo en relación a la economía y la política?  \u001b[0m \n",
              "\u001b[1;33m   \u001b[0m\u001b[1mAnálisis de los desafíos y el rol de la Inteligencia Artificial.\"\u001b[0m  Este prompt utiliza una estructura de        \n",
              "\u001b[1;33m   \u001b[0mpregunta-respuesta y se enfoca en la relación entre economía, política y el Estado.                             \n",
              "\n",
              "\u001b[33m───────────────────────────────────────────────────────────────────────────────────────────────────────────────────\u001b[0m\n",
              "\n",
              "\u001b[1;33m 5 \u001b[0m\u001b[1m\"El Estado contemporáneo: ¿Cuáles son sus principales características y cómo impacta la Inteligencia Artificial \u001b[0m\n",
              "\u001b[1;33m   \u001b[0m\u001b[1men sus tensiones internas y en la gobernanza global?\"\u001b[0m Este prompt es más amplio, considerando la perspectiva    \n",
              "\u001b[1;33m   \u001b[0mglobal y la influencia de la IA en las tensiones internas y externas del Estado.                                \n"
            ],
            "text/html": [
              "<pre style=\"white-space:pre;overflow-x:auto;line-height:normal;font-family:Menlo,'DejaVu Sans Mono',consolas,'Courier New',monospace\">Aquí tienes 5 ejemplos de prompts de búsqueda web, optimizados para un experto en Ciencias Políticas, utilizando   \n",
              "los parámetros especificados:                                                                                      \n",
              "\n",
              "<span style=\"color: #808000; text-decoration-color: #808000; font-weight: bold\"> 1 </span><span style=\"font-weight: bold\">\"Características del Estado contemporáneo: análisis de las tensiones entre gobernanza, economía política y la </span>  \n",
              "<span style=\"color: #808000; text-decoration-color: #808000; font-weight: bold\">   </span><span style=\"font-weight: bold\">influencia de la Inteligencia Artificial\"</span>  Este prompt es amplio, abarcando varios aspectos clave y utilizando  \n",
              "<span style=\"color: #808000; text-decoration-color: #808000; font-weight: bold\">   </span>un lenguaje académico.                                                                                          \n",
              "\n",
              "<span style=\"color: #808000; text-decoration-color: #808000\">───────────────────────────────────────────────────────────────────────────────────────────────────────────────────</span>\n",
              "\n",
              "<span style=\"color: #808000; text-decoration-color: #808000; font-weight: bold\"> 2 </span><span style=\"font-weight: bold\">\"¿Qué es el Estado contemporáneo? Describa las principales características y cómo la Inteligencia Artificial </span>   \n",
              "<span style=\"color: #808000; text-decoration-color: #808000; font-weight: bold\">   </span><span style=\"font-weight: bold\">impacta en su gobernanza y desafíos económicos.\"</span>  Este prompt es más directo y utiliza las \"sugerencias\"        \n",
              "<span style=\"color: #808000; text-decoration-color: #808000; font-weight: bold\">   </span>proporcionadas para guiar la búsqueda.                                                                          \n",
              "\n",
              "<span style=\"color: #808000; text-decoration-color: #808000\">───────────────────────────────────────────────────────────────────────────────────────────────────────────────────</span>\n",
              "\n",
              "<span style=\"color: #808000; text-decoration-color: #808000; font-weight: bold\"> 3 </span><span style=\"font-weight: bold\">\"Causas de las tensiones en el Estado contemporáneo: ¿Cómo influyen la economía política y el auge de la </span>       \n",
              "<span style=\"color: #808000; text-decoration-color: #808000; font-weight: bold\">   </span><span style=\"font-weight: bold\">Inteligencia Artificial en la gobernanza?\"</span> Este prompt se centra en las causas y las relaciones de causa-efecto,\n",
              "<span style=\"color: #808000; text-decoration-color: #808000; font-weight: bold\">   </span>utilizando un lenguaje preciso.                                                                                 \n",
              "\n",
              "<span style=\"color: #808000; text-decoration-color: #808000\">───────────────────────────────────────────────────────────────────────────────────────────────────────────────────</span>\n",
              "\n",
              "<span style=\"color: #808000; text-decoration-color: #808000; font-weight: bold\"> 4 </span><span style=\"font-weight: bold\">\"Cuáles son las principales características del Estado contemporáneo en relación a la economía y la política?  </span> \n",
              "<span style=\"color: #808000; text-decoration-color: #808000; font-weight: bold\">   </span><span style=\"font-weight: bold\">Análisis de los desafíos y el rol de la Inteligencia Artificial.\"</span>  Este prompt utiliza una estructura de        \n",
              "<span style=\"color: #808000; text-decoration-color: #808000; font-weight: bold\">   </span>pregunta-respuesta y se enfoca en la relación entre economía, política y el Estado.                             \n",
              "\n",
              "<span style=\"color: #808000; text-decoration-color: #808000\">───────────────────────────────────────────────────────────────────────────────────────────────────────────────────</span>\n",
              "\n",
              "<span style=\"color: #808000; text-decoration-color: #808000; font-weight: bold\"> 5 </span><span style=\"font-weight: bold\">\"El Estado contemporáneo: ¿Cuáles son sus principales características y cómo impacta la Inteligencia Artificial </span>\n",
              "<span style=\"color: #808000; text-decoration-color: #808000; font-weight: bold\">   </span><span style=\"font-weight: bold\">en sus tensiones internas y en la gobernanza global?\"</span> Este prompt es más amplio, considerando la perspectiva    \n",
              "<span style=\"color: #808000; text-decoration-color: #808000; font-weight: bold\">   </span>global y la influencia de la IA en las tensiones internas y externas del Estado.                                \n",
              "</pre>\n"
            ]
          },
          "metadata": {}
        }
      ]
    },
    {
      "cell_type": "code",
      "source": [
        "print(\"-\" * 100)  # Separator\n",
        "Console().print(Markdown(response_agent_output2))"
      ],
      "metadata": {
        "id": "8FK1lSwjTbUH"
      },
      "execution_count": null,
      "outputs": []
    },
    {
      "cell_type": "markdown",
      "source": [
        "# Agent"
      ],
      "metadata": {
        "id": "ZP1_QNQYMiOF"
      }
    },
    {
      "cell_type": "markdown",
      "source": [
        "## Class Agents"
      ],
      "metadata": {
        "id": "2sgjIZwwIuFf"
      }
    },
    {
      "cell_type": "code",
      "source": [
        "# Define the base Agent class\n",
        "\n",
        "class Agent:\n",
        "    def __init__(self, name: str, role: str, skills: List[str]):\n",
        "        self.name = name\n",
        "        self.role = role\n",
        "        self.skills = skills\n",
        "        self.llm = llm_g\n",
        "\n",
        "    def process(self, task: str, context: List[Dict] = None) -> str:\n",
        "        messages = [\n",
        "            SystemMessage(content=f\"You are {self.name}, a {self.role}. Your skills include: {', '.join(self.skills)}. Respond to the task based on your role and skills.\")\n",
        "        ]\n",
        "\n",
        "        if context:\n",
        "            for msg in context:\n",
        "                if msg['role'] == 'human':\n",
        "                    messages.append(HumanMessage(content=msg['content']))\n",
        "                elif msg['role'] == 'ai':\n",
        "                    messages.append(AIMessage(content=msg['content']))\n",
        "\n",
        "        messages.append(HumanMessage(content=task))\n",
        "        response = self.llm.invoke(messages)\n",
        "        return response# .content"
      ],
      "metadata": {
        "id": "FbVvoB6BCiuM"
      },
      "execution_count": null,
      "outputs": []
    },
    {
      "cell_type": "markdown",
      "source": [
        "Define specialized agents:\n",
        "\n",
        "* HistoryResearchAgent\n",
        "* DataAnalysisAgent\n",
        "* PoliticalScienceExpertAgent"
      ],
      "metadata": {
        "id": "TJcy2WvrD3x6"
      }
    },
    {
      "cell_type": "code",
      "source": [
        "\n",
        "class HistoryResearchAgent(Agent):\n",
        "    def __init__(self):\n",
        "        super().__init__(\"Clio\", \"History Research Specialist\", [\"deep knowledge of historical events\", \"understanding of historical contexts\", \"identifying historical trends\"])\n",
        "\n",
        "class PoliticalScienceExpertAgent(Agent):\n",
        "    def __init__(self):\n",
        "        super().__init__(\"Politic\", \"Political Science Expert\", [\"deep knowledge of political science\", \"understanding of political contexts\", \"senior academic level in political science\"])\n",
        "\n",
        "class DataAnalysisAgent(Agent):\n",
        "    def __init__(self):\n",
        "        super().__init__(\"Data\", \"Data Analysis Expert\", [\"interpreting context data\", \"deep data analysis\", \"description of analyzed data\"])"
      ],
      "metadata": {
        "id": "zn50_sNE8ekd"
      },
      "execution_count": null,
      "outputs": []
    },
    {
      "cell_type": "markdown",
      "source": [
        "## RAG"
      ],
      "metadata": {
        "id": "0djSyCn-JlvR"
      }
    },
    {
      "cell_type": "code",
      "source": [
        "# You can use BeyondLLM\n",
        "\n",
        "# query_p = \"Según la ciencia política, desarrollar y explicar los principales acontecimientos que provocaron el tránsito del Estado moderno al Estado contemporáneo, sus características y tensiones de esta etapa.\"\n",
        "# data_pdf = source.fit(path=\".pdf\", dtype=\"pdf\", chunk_size=1024, chunk_overlap=100)\n",
        "# embed_model_pdf = GeminiEmbeddings(api_key=GOOGLE_API_KEY, model_name=\"models/embedding-001\")\n",
        "# retriever_pdf = retrieve.auto_retriever(data=data_pdf, embed_model=embed_model_pdf, type=\"hybrid\", mode=\"OR\", top_k=3)\n",
        "# llm_rag = llms.GeminiModel(model_name=\"gemini-pro\", google_api_key=GOOGLE_API_KEY)\n",
        "# pipeline = generator.Generate(question=query_p, retriever=retriever_pdf, llm=llm)\n",
        "# ragcspolitical_response = pipeline.call()"
      ],
      "metadata": {
        "id": "iYA8XF8yBcy5"
      },
      "execution_count": null,
      "outputs": []
    },
    {
      "cell_type": "code",
      "source": [],
      "metadata": {
        "id": "N0w1qTe8Jksa"
      },
      "execution_count": null,
      "outputs": []
    },
    {
      "cell_type": "markdown",
      "source": [
        "## Web search"
      ],
      "metadata": {
        "id": "r4Nt3cW4Jpni"
      }
    },
    {
      "cell_type": "code",
      "source": [
        "search_p = DuckDuckGoSearchRun()\n",
        "\n",
        "# DuckDuckGoSearchResults() -> retorna un str\n",
        "search_dduckgo = DuckDuckGoSearchResults(output_format=\"list\", num_results=3) # -> retorna una lista\n",
        "\n",
        "# \"Develop and fully explain what the contemporary State is and its main characteristics.\"\n",
        "# \"Transition from the modern State to the contemporary State.\"\n",
        "\n",
        "response_searchp = search_dduckgo.invoke(\"Transition from the modern State to the contemporary State.\")"
      ],
      "metadata": {
        "id": "Pl9wHj8MCOCg"
      },
      "execution_count": null,
      "outputs": []
    },
    {
      "cell_type": "code",
      "source": [
        "print(type(response_searchp))"
      ],
      "metadata": {
        "colab": {
          "base_uri": "https://localhost:8080/"
        },
        "id": "RTG3qyYCJIpG",
        "outputId": "a0ae9aa8-534d-4073-a8c7-48cfaefc64b7"
      },
      "execution_count": null,
      "outputs": [
        {
          "output_type": "stream",
          "name": "stdout",
          "text": [
            "<class 'list'>\n"
          ]
        }
      ]
    },
    {
      "cell_type": "code",
      "source": [
        "print(response_searchp)"
      ],
      "metadata": {
        "colab": {
          "base_uri": "https://localhost:8080/"
        },
        "id": "8ies5Fy5IV1J",
        "outputId": "068ebd16-cb3d-45ec-c6f5-7c2941ba5cb7"
      },
      "execution_count": null,
      "outputs": [
        {
          "output_type": "stream",
          "name": "stdout",
          "text": [
            "[{'snippet': \"Enduring Legacies and Historical Disjunctures' aims to critically assess arguably one of the most important historical developments in international relations (IR) during the modern period - namely, the transition from empires to nation states. This transition had fundamental consequences in the development of International Relations in the ...\", 'title': 'From Empires to Nation States? Enduring Legacies and Historical ...', 'link': 'https://journals.sagepub.com/doi/10.1177/03058298231214004'}, {'snippet': \"However, in Quijano's formulation, this democratisation is seen as a necessary condition to the establishment of the modern nation-state: 'only through the process of democratization of society can the construction of a modern nation-state, with all of its implications, including citizenship and political representation, be possible and ...\", 'title': 'Against Sovereignty: The Colonial Limits of Modern Politics', 'link': 'https://journals.sagepub.com/doi/full/10.1177/03058298231194742'}, {'snippet': 'Continued colonialism through simple reproduction. The first mode, continued colonialism, pinpoints the most obvious way in which the imperial past impacts the present: in some parts of the world, the imperial past is not yet past; or, put differently, formal colonialism is not over. Despite the massive decolonization of most countries in the mid to late 20 th century, some colonies still ...', 'title': 'Reverberations of Empire: How the Colonial Past Shapes the Present ...', 'link': 'https://www.cambridge.org/core/journals/social-science-history/article/reverberations-of-empire-how-the-colonial-past-shapes-the-present/178FA24536F578B3EFE2434DFDB87846'}]\n"
          ]
        }
      ]
    },
    {
      "cell_type": "code",
      "source": [
        "print(type(response_searchp))"
      ],
      "metadata": {
        "colab": {
          "base_uri": "https://localhost:8080/"
        },
        "id": "5Ydnby6PunLR",
        "outputId": "c0f90f77-fccc-4df8-dc0c-05140b3a9885"
      },
      "execution_count": null,
      "outputs": [
        {
          "output_type": "stream",
          "name": "stdout",
          "text": [
            "<class 'list'>\n"
          ]
        }
      ]
    },
    {
      "cell_type": "code",
      "source": [
        "# response_searchp [0]['link']\n",
        "print(response_searchp[0]['link'])"
      ],
      "metadata": {
        "colab": {
          "base_uri": "https://localhost:8080/"
        },
        "id": "JrQMJaYMvJ59",
        "outputId": "f1497d9e-d5a8-4baa-f40c-17b4f22521c4"
      },
      "execution_count": null,
      "outputs": [
        {
          "output_type": "stream",
          "name": "stdout",
          "text": [
            "https://journals.sagepub.com/doi/10.1177/03058298231214004\n"
          ]
        }
      ]
    },
    {
      "cell_type": "code",
      "source": [
        "output_search_list = [i['link']for i in response_searchp]"
      ],
      "metadata": {
        "id": "MqTyrv93NCIN"
      },
      "execution_count": null,
      "outputs": []
    },
    {
      "cell_type": "code",
      "source": [
        "print(output_search_list)"
      ],
      "metadata": {
        "colab": {
          "base_uri": "https://localhost:8080/"
        },
        "id": "YIUMIUz4NsK1",
        "outputId": "25874f9f-ced0-4ae8-c128-244bec8f5c80"
      },
      "execution_count": null,
      "outputs": [
        {
          "output_type": "stream",
          "name": "stdout",
          "text": [
            "['https://journals.sagepub.com/doi/10.1177/03058298231214004', 'https://journals.sagepub.com/doi/full/10.1177/03058298231194742', 'https://www.cambridge.org/core/journals/social-science-history/article/reverberations-of-empire-how-the-colonial-past-shapes-the-present/178FA24536F578B3EFE2434DFDB87846']\n"
          ]
        }
      ]
    },
    {
      "cell_type": "code",
      "source": [
        "print(\"-\" * 100)  # Separator\n",
        "Console().print(Markdown(output_search_list[0]))\n",
        "print(output_search_list[0])\n",
        "#Console().print(Markdown(response_agent_output2))"
      ],
      "metadata": {
        "id": "za5qdNBxvRZl",
        "colab": {
          "base_uri": "https://localhost:8080/",
          "height": 68
        },
        "outputId": "79eb0792-286f-4ad0-cf10-4d470c58cbd2"
      },
      "execution_count": null,
      "outputs": [
        {
          "output_type": "stream",
          "name": "stdout",
          "text": [
            "----------------------------------------------------------------------------------------------------\n"
          ]
        },
        {
          "output_type": "display_data",
          "data": {
            "text/plain": [
              "https://journals.sagepub.com/doi/10.1177/03058298231214004                                                         \n"
            ],
            "text/html": [
              "<pre style=\"white-space:pre;overflow-x:auto;line-height:normal;font-family:Menlo,'DejaVu Sans Mono',consolas,'Courier New',monospace\">https://journals.sagepub.com/doi/10.1177/03058298231214004                                                         \n",
              "</pre>\n"
            ]
          },
          "metadata": {}
        },
        {
          "output_type": "stream",
          "name": "stdout",
          "text": [
            "https://journals.sagepub.com/doi/10.1177/03058298231214004\n"
          ]
        }
      ]
    },
    {
      "cell_type": "code",
      "source": [
        "urls_ddgo = output_search_list\n",
        "data_rag = source.fit(path=urls_ddgo, dtype=\"url\")\n",
        "query_rag = \"Transition from the modern State to the contemporary State.\"\n",
        "embed_model_rag = GeminiEmbeddings(api_key=GOOGLE_API_KEY, model_name=\"models/embedding-001\")\n",
        "retriever_pdf = retrieve.auto_retriever(data=data_rag, embed_model=embed_model_rag, type=\"hybrid\", mode=\"OR\", top_k=3)\n",
        "llm_rag = llms.GeminiModel(model_name=\"gemini-pro\", google_api_key=GOOGLE_API_KEY)\n",
        "pipeline = generator.Generate(question=query_rag, retriever=retriever_pdf, llm=llm)\n",
        "ragcspolitical_response = pipeline.call()"
      ],
      "metadata": {
        "id": "uyN1kb8sKOWZ"
      },
      "execution_count": null,
      "outputs": []
    },
    {
      "cell_type": "code",
      "source": [
        "# Tool Tavily Search\n",
        "\n",
        "search_t = TavilySearchResults(\n",
        "    max_results=3,\n",
        "    search_depth=\"advanced\",\n",
        "    include_answer=True,\n",
        "    include_raw_content=True,\n",
        "    include_images=False,\n",
        "    # include_domains=[...],\n",
        "    # exclude_domains=[...],\n",
        "    # name=\"...\",            # overwrite default tool name\n",
        "    # description=\"...\",     # overwrite default tool description\n",
        "    # args_schema=...,       # overwrite default args_schema: BaseModel\n",
        ")"
      ],
      "metadata": {
        "id": "JDU52mgSeVh_"
      },
      "execution_count": null,
      "outputs": []
    },
    {
      "cell_type": "code",
      "source": [
        "response_searcht = search_t.invoke({\"query\": \"According to political science, what is the contemporary State, mention its main economic causes.\"})"
      ],
      "metadata": {
        "id": "7Q4lvnCkgQj4"
      },
      "execution_count": null,
      "outputs": []
    },
    {
      "cell_type": "code",
      "source": [
        "print(response_searcht)"
      ],
      "metadata": {
        "colab": {
          "base_uri": "https://localhost:8080/"
        },
        "id": "8ShDg6Smr_IK",
        "outputId": "cb0710d2-1d15-468c-b96e-647ee6fdc30b"
      },
      "execution_count": null,
      "outputs": [
        {
          "output_type": "stream",
          "name": "stdout",
          "text": [
            "[{'url': 'https://www.cambridge.org/core/books/introduction-to-comparative-politics/modern-state/47BB2E874F4D3C839425A1E15ECEAEC0', 'content': 'Summary. This book is about states and the challenges to sovereignty they face in the contemporary world. We address this issue by systematically comparing states around the globe. As such, this book represents a contribution to comparative politics, which is a core subfield within the academic discipline of political science.'}, {'url': 'https://www.britannica.com/topic/political-science', 'content': 'Political philosophy is concerned primarily with political ideas and values, such as rights, justice, freedom, and political obligation (whether people should or should not obey political authority); it is normative in its approach (i.e., it is concerned with what ought to be rather than with what is) and rationalistic in its method. Although political science borrows heavily from the other social sciences, it is distinguished from them by its focus on power—defined as the ability of one political actor to get another actor to do what it wants—at the international, national, and local levels. However, if the term science applies to any body of systematically organized knowledge based on facts ascertained by empirical methods and described by as much measurement as the material allows, then political science is a science, like the other social disciplines. Political science is generally used in the singular, but in French and Spanish the plural (sciences politiques and ciencias políticas, respectively) is used, perhaps a reflection of the discipline’s eclectic nature. The contemporary discipline, however, is considerably broader than this, encompassing studies of all the societal, cultural, and psychological factors that mutually influence the operation of government and the body politic.\\n'}, {'url': 'https://quizlet.com/173185150/political-science-the-modern-state-flash-cards/', 'content': 'Constructing political institutions where none existed previously or were very weak. Failed-states. States that have no effective central control, no monopoly on the use of violence, porous borders. Study with Quizlet and memorize flashcards containing terms like The Modern State, Development of Modern State, First State and more.'}]\n"
          ]
        }
      ]
    },
    {
      "cell_type": "code",
      "source": [
        "content_t = \"\"\n",
        "urls_t = \"\"\n",
        "for i in response_searcht:\n",
        "    urls_t += f\"{i['url']}\\n\\n\"\n",
        "    content_t += f\"{i['content']}\\n\\n\"\n",
        "    print(i['content'])"
      ],
      "metadata": {
        "colab": {
          "base_uri": "https://localhost:8080/"
        },
        "id": "sOQcO6SrslSV",
        "outputId": "07cd5315-9714-40db-90ef-36b08500d076"
      },
      "execution_count": null,
      "outputs": [
        {
          "output_type": "stream",
          "name": "stdout",
          "text": [
            "Summary. This book is about states and the challenges to sovereignty they face in the contemporary world. We address this issue by systematically comparing states around the globe. As such, this book represents a contribution to comparative politics, which is a core subfield within the academic discipline of political science.\n",
            "Political philosophy is concerned primarily with political ideas and values, such as rights, justice, freedom, and political obligation (whether people should or should not obey political authority); it is normative in its approach (i.e., it is concerned with what ought to be rather than with what is) and rationalistic in its method. Although political science borrows heavily from the other social sciences, it is distinguished from them by its focus on power—defined as the ability of one political actor to get another actor to do what it wants—at the international, national, and local levels. However, if the term science applies to any body of systematically organized knowledge based on facts ascertained by empirical methods and described by as much measurement as the material allows, then political science is a science, like the other social disciplines. Political science is generally used in the singular, but in French and Spanish the plural (sciences politiques and ciencias políticas, respectively) is used, perhaps a reflection of the discipline’s eclectic nature. The contemporary discipline, however, is considerably broader than this, encompassing studies of all the societal, cultural, and psychological factors that mutually influence the operation of government and the body politic.\n",
            "\n",
            "Constructing political institutions where none existed previously or were very weak. Failed-states. States that have no effective central control, no monopoly on the use of violence, porous borders. Study with Quizlet and memorize flashcards containing terms like The Modern State, Development of Modern State, First State and more.\n"
          ]
        }
      ]
    },
    {
      "cell_type": "code",
      "source": [
        "print(content_t)\n",
        "print(\"*\"*100)\n",
        "print(urls_t)"
      ],
      "metadata": {
        "colab": {
          "base_uri": "https://localhost:8080/"
        },
        "id": "TBbXp58_ufnR",
        "outputId": "9157a631-5676-475b-f7a0-812e42010264"
      },
      "execution_count": null,
      "outputs": [
        {
          "output_type": "stream",
          "name": "stdout",
          "text": [
            "Summary. This book is about states and the challenges to sovereignty they face in the contemporary world. We address this issue by systematically comparing states around the globe. As such, this book represents a contribution to comparative politics, which is a core subfield within the academic discipline of political science.\n",
            "\n",
            "Political philosophy is concerned primarily with political ideas and values, such as rights, justice, freedom, and political obligation (whether people should or should not obey political authority); it is normative in its approach (i.e., it is concerned with what ought to be rather than with what is) and rationalistic in its method. Although political science borrows heavily from the other social sciences, it is distinguished from them by its focus on power—defined as the ability of one political actor to get another actor to do what it wants—at the international, national, and local levels. However, if the term science applies to any body of systematically organized knowledge based on facts ascertained by empirical methods and described by as much measurement as the material allows, then political science is a science, like the other social disciplines. Political science is generally used in the singular, but in French and Spanish the plural (sciences politiques and ciencias políticas, respectively) is used, perhaps a reflection of the discipline’s eclectic nature. The contemporary discipline, however, is considerably broader than this, encompassing studies of all the societal, cultural, and psychological factors that mutually influence the operation of government and the body politic.\n",
            "\n",
            "\n",
            "Constructing political institutions where none existed previously or were very weak. Failed-states. States that have no effective central control, no monopoly on the use of violence, porous borders. Study with Quizlet and memorize flashcards containing terms like The Modern State, Development of Modern State, First State and more.\n",
            "\n",
            "\n",
            "****************************************************************************************************\n",
            "https://www.cambridge.org/core/books/introduction-to-comparative-politics/modern-state/47BB2E874F4D3C839425A1E15ECEAEC0\n",
            "\n",
            "https://www.britannica.com/topic/political-science\n",
            "\n",
            "https://quizlet.com/173185150/political-science-the-modern-state-flash-cards/\n",
            "\n",
            "\n"
          ]
        }
      ]
    },
    {
      "cell_type": "code",
      "source": [
        "# print(response_searcht[0]['content'])\n",
        "print(\"*\"*100)\n",
        "print(\"-\" * 100)  # Separator\n",
        "Console().print(Markdown(content_t))\n",
        "print(\"-\" * 100)  # Separator\n",
        "print(urls_t)"
      ],
      "metadata": {
        "colab": {
          "base_uri": "https://localhost:8080/",
          "height": 511
        },
        "id": "gPLsvI9vpAtR",
        "outputId": "f4d915c1-e6ed-4995-fd91-dcc574c94754"
      },
      "execution_count": null,
      "outputs": [
        {
          "output_type": "stream",
          "name": "stdout",
          "text": [
            "****************************************************************************************************\n",
            "----------------------------------------------------------------------------------------------------\n"
          ]
        },
        {
          "output_type": "display_data",
          "data": {
            "text/plain": [
              "Summary. This book is about states and the challenges to sovereignty they face in the contemporary world. We       \n",
              "address this issue by systematically comparing states around the globe. As such, this book represents a            \n",
              "contribution to comparative politics, which is a core subfield within the academic discipline of political science.\n",
              "\n",
              "Political philosophy is concerned primarily with political ideas and values, such as rights, justice, freedom, and \n",
              "political obligation (whether people should or should not obey political authority); it is normative in its        \n",
              "approach (i.e., it is concerned with what ought to be rather than with what is) and rationalistic in its method.   \n",
              "Although political science borrows heavily from the other social sciences, it is distinguished from them by its    \n",
              "focus on power—defined as the ability of one political actor to get another actor to do what it wants—at the       \n",
              "international, national, and local levels. However, if the term science applies to any body of systematically      \n",
              "organized knowledge based on facts ascertained by empirical methods and described by as much measurement as the    \n",
              "material allows, then political science is a science, like the other social disciplines. Political science is      \n",
              "generally used in the singular, but in French and Spanish the plural (sciences politiques and ciencias políticas,  \n",
              "respectively) is used, perhaps a reflection of the discipline’s eclectic nature. The contemporary discipline,      \n",
              "however, is considerably broader than this, encompassing studies of all the societal, cultural, and psychological  \n",
              "factors that mutually influence the operation of government and the body politic.                                  \n",
              "\n",
              "Constructing political institutions where none existed previously or were very weak. Failed-states. States that    \n",
              "have no effective central control, no monopoly on the use of violence, porous borders. Study with Quizlet and      \n",
              "memorize flashcards containing terms like The Modern State, Development of Modern State, First State and more.     \n"
            ],
            "text/html": [
              "<pre style=\"white-space:pre;overflow-x:auto;line-height:normal;font-family:Menlo,'DejaVu Sans Mono',consolas,'Courier New',monospace\">Summary. This book is about states and the challenges to sovereignty they face in the contemporary world. We       \n",
              "address this issue by systematically comparing states around the globe. As such, this book represents a            \n",
              "contribution to comparative politics, which is a core subfield within the academic discipline of political science.\n",
              "\n",
              "Political philosophy is concerned primarily with political ideas and values, such as rights, justice, freedom, and \n",
              "political obligation (whether people should or should not obey political authority); it is normative in its        \n",
              "approach (i.e., it is concerned with what ought to be rather than with what is) and rationalistic in its method.   \n",
              "Although political science borrows heavily from the other social sciences, it is distinguished from them by its    \n",
              "focus on power—defined as the ability of one political actor to get another actor to do what it wants—at the       \n",
              "international, national, and local levels. However, if the term science applies to any body of systematically      \n",
              "organized knowledge based on facts ascertained by empirical methods and described by as much measurement as the    \n",
              "material allows, then political science is a science, like the other social disciplines. Political science is      \n",
              "generally used in the singular, but in French and Spanish the plural (sciences politiques and ciencias políticas,  \n",
              "respectively) is used, perhaps a reflection of the discipline’s eclectic nature. The contemporary discipline,      \n",
              "however, is considerably broader than this, encompassing studies of all the societal, cultural, and psychological  \n",
              "factors that mutually influence the operation of government and the body politic.                                  \n",
              "\n",
              "Constructing political institutions where none existed previously or were very weak. Failed-states. States that    \n",
              "have no effective central control, no monopoly on the use of violence, porous borders. Study with Quizlet and      \n",
              "memorize flashcards containing terms like The Modern State, Development of Modern State, First State and more.     \n",
              "</pre>\n"
            ]
          },
          "metadata": {}
        },
        {
          "output_type": "stream",
          "name": "stdout",
          "text": [
            "----------------------------------------------------------------------------------------------------\n",
            "https://www.cambridge.org/core/books/introduction-to-comparative-politics/modern-state/47BB2E874F4D3C839425A1E15ECEAEC0\n",
            "\n",
            "https://www.britannica.com/topic/political-science\n",
            "\n",
            "https://quizlet.com/173185150/political-science-the-modern-state-flash-cards/\n",
            "\n",
            "\n"
          ]
        }
      ]
    },
    {
      "cell_type": "code",
      "source": [
        "# Search SerpAPIWrapper\n",
        "\n",
        "# engine: \"bing\"\n",
        "params_w = {\n",
        "    \"engine\": \"google\",\n",
        "    \"gl\": \"us\",\n",
        "    \"hl\": \"en\",\n",
        "}\n",
        "search_w = SerpAPIWrapper(params=params_w)\n",
        "response_searchw = search_w.run(\"Economic causes of the transition from the modern State to the contemporary State.\")"
      ],
      "metadata": {
        "id": "cFaADlo04FTj"
      },
      "execution_count": null,
      "outputs": []
    },
    {
      "cell_type": "code",
      "source": [
        "print((response_searchw))"
      ],
      "metadata": {
        "colab": {
          "base_uri": "https://localhost:8080/"
        },
        "id": "am-OC6Br4FnC",
        "outputId": "0b01176e-682a-41b0-d6c0-1df56a170043"
      },
      "execution_count": null,
      "outputs": [
        {
          "output_type": "stream",
          "name": "stdout",
          "text": [
            "['The transition process is usually characterized by the changing and creating of institutions, particularly private enterprises; changes in the role of the state ...', 'Drive to Maturity: This stage takes place over a long period of time, as standards of living rise, use of technology increases, and the national economy grows ...', 'In some historical periods the immediate formative influence of the fiscal needs and policy of the state on the development of the economy and with it on all ...', 'Factors such as internal political stability and conflict, political conflict between competing states, culture and society within a state, ...', 'The most prevalent argument has focused on the effects of globalization. Increasing trade and financial flows are said to put pressure on national economies.', 'Repeated foreign invasions from the Hyksos in 1650 BCE and onwards implied that Egypt gradually lost its economic and military dominance over ...', 'Industrialization is the process of transforming the economy of a nation or region from a focus on agriculture to a reliance on manufacturing.', 'A transitional society refers to a country undergoing macroeconomic reforms to shift from a state-run economy to a more market-led system.', 'New economic opportunities are limited by high barriers to entry and growth, such as bureaucratic interference, corruption, and crime, or by lack of access to ...', 'This economy can therefore be represented as a repeated game between the elite and the poor. We characterize the pure strategy Markov perfect equilibria of this ...']\n"
          ]
        }
      ]
    },
    {
      "cell_type": "code",
      "source": [
        "print(\"-\" * 100)  # Separator\n",
        "Console().print(Markdown(response_searchw))\n",
        "print(\"-\" * 100)  # Separator"
      ],
      "metadata": {
        "colab": {
          "base_uri": "https://localhost:8080/",
          "height": 292
        },
        "id": "8J5peryh6McD",
        "outputId": "763c4ee5-4977-46f3-fcef-97d8cac8fa73"
      },
      "execution_count": null,
      "outputs": [
        {
          "output_type": "stream",
          "name": "stdout",
          "text": [
            "----------------------------------------------------------------------------------------------------\n"
          ]
        },
        {
          "output_type": "display_data",
          "data": {
            "text/plain": [
              "['The transition process is usually characterized by the changing and creating of institutions, particularly       \n",
              "private enterprises; changes in the role of the state ...', 'Drive to Maturity: This stage takes place over a long \n",
              "period of time, as standards of living rise, use of technology increases, and the national economy grows ...', 'In \n",
              "some historical periods the immediate formative influence of the fiscal needs and policy of the state on the       \n",
              "development of the economy and with it on all ...', 'Factors such as internal political stability and conflict,    \n",
              "political conflict between competing states, culture and society within a state, ...', 'The most prevalent argument\n",
              "has focused on the effects of globalization. Increasing trade and financial flows are said to put pressure on      \n",
              "national economies.', 'Repeated foreign invasions from the Hyksos in 1650 BCE and onwards implied that Egypt       \n",
              "gradually lost its economic and military dominance over ...', 'Industrialization is the process of transforming the\n",
              "economy of a nation or region from a focus on agriculture to a reliance on manufacturing.', 'A transitional society\n",
              "refers to a country undergoing macroeconomic reforms to shift from a state-run economy to a more market-led        \n",
              "system.', 'New economic opportunities are limited by high barriers to entry and growth, such as bureaucratic       \n",
              "interference, corruption, and crime, or by lack of access to ...', 'This economy can therefore be represented as a \n",
              "repeated game between the elite and the poor. We characterize the pure strategy Markov perfect equilibria of this  \n",
              "...']                                                                                                              \n"
            ],
            "text/html": [
              "<pre style=\"white-space:pre;overflow-x:auto;line-height:normal;font-family:Menlo,'DejaVu Sans Mono',consolas,'Courier New',monospace\">['The transition process is usually characterized by the changing and creating of institutions, particularly       \n",
              "private enterprises; changes in the role of the state ...', 'Drive to Maturity: This stage takes place over a long \n",
              "period of time, as standards of living rise, use of technology increases, and the national economy grows ...', 'In \n",
              "some historical periods the immediate formative influence of the fiscal needs and policy of the state on the       \n",
              "development of the economy and with it on all ...', 'Factors such as internal political stability and conflict,    \n",
              "political conflict between competing states, culture and society within a state, ...', 'The most prevalent argument\n",
              "has focused on the effects of globalization. Increasing trade and financial flows are said to put pressure on      \n",
              "national economies.', 'Repeated foreign invasions from the Hyksos in 1650 BCE and onwards implied that Egypt       \n",
              "gradually lost its economic and military dominance over ...', 'Industrialization is the process of transforming the\n",
              "economy of a nation or region from a focus on agriculture to a reliance on manufacturing.', 'A transitional society\n",
              "refers to a country undergoing macroeconomic reforms to shift from a state-run economy to a more market-led        \n",
              "system.', 'New economic opportunities are limited by high barriers to entry and growth, such as bureaucratic       \n",
              "interference, corruption, and crime, or by lack of access to ...', 'This economy can therefore be represented as a \n",
              "repeated game between the elite and the poor. We characterize the pure strategy Markov perfect equilibria of this  \n",
              "...']                                                                                                              \n",
              "</pre>\n"
            ]
          },
          "metadata": {}
        },
        {
          "output_type": "stream",
          "name": "stdout",
          "text": [
            "----------------------------------------------------------------------------------------------------\n"
          ]
        }
      ]
    },
    {
      "cell_type": "markdown",
      "source": [
        "## Tools"
      ],
      "metadata": {
        "id": "t9K09GoGQuS-"
      }
    },
    {
      "cell_type": "markdown",
      "source": [
        "Define the different functions for the collaboration system"
      ],
      "metadata": {
        "id": "Fs_BW83FDUai"
      }
    },
    {
      "cell_type": "code",
      "source": [
        "# RAG of political science concepts\n",
        "\n",
        "#def rag_cspolitical_context(cspolitical_agent, task: str, context: list) -> list:\n",
        "    #print(\"📚 CS Political Agent: RAG Researching and analyzing political science concepts...\")\n",
        "    #research_cspolitical = context[-1][\"content\"]\n",
        "    #ragcspolitical_task = f\"Provide relevant context and information for the following task: {task}\"\n",
        "    #ragcspolitical_task = f\"Analyze the data provided and describe any trends or insights relevant to the original task. Analyze data: {research_cspolitical}}\"\n",
        "    #data_pdf = source.fit(path=\".pdf\", dtype=\"pdf\", chunk_size=1024, chunk_overlap=100)\n",
        "    #embed_model_pdf = GeminiEmbeddings(api_key=GOOGLE_API_KEY, model_name=\"models/embedding-001\")\n",
        "    #retriever_pdf = retrieve.auto_retriever(data=data_pdf, embed_model=embed_model_pdf, type=\"hybrid\", mode=\"OR\", top_k=3)\n",
        "    #llm = llms.GeminiModel(model_name=\"gemini-pro\", google_api_key=GOOGLE_API_KEY)\n",
        "    #pipeline = generator.Generate(question=ragcspolitical_task, retriever=retriever_pdf, llm=llm)\n",
        "    #ragcspolitical_response = pipeline.call()\n",
        "    #ragcspolitical_result = cspolitical_agent.process(ragcspolitical_response, context)\n",
        "    #context.append({\"role\": \"ai\", \"content\": f\"CS Political Agent: {ragcspolitical_result}\"})\n",
        "    #print(f\"📋 CS Political RAG results: {ragcspolitical_result[:100]}...\\n\")\n",
        "    #return context"
      ],
      "metadata": {
        "id": "Ag_HQ-n1mxIH"
      },
      "execution_count": null,
      "outputs": []
    },
    {
      "cell_type": "code",
      "source": [
        "# Web research and analysis of political science concepts / Tool -> DuckDuckGoSearchRun()\n",
        "\n",
        "def webresearch_dduckgo(task: str):\n",
        "    research = DuckDuckGoSearchRun()\n",
        "    response = research.invoke(task)\n",
        "    return response\n",
        "\n",
        "\n",
        "def webresearch_cspolitical_context(cspolitical_agent, task: str, context: list) -> list:\n",
        "    print(\"🕵️ CS Political Agent: Web researching for political science concepts...\")\n",
        "    #rag_cspolitical = context[-1][\"content\"]\n",
        "    #webresearch_csp_task = f\"Provide relevant context and information for the following task: {task}\"\n",
        "    webresearch_csp_task = f\"{task}\"\n",
        "    #webresearch_csp_task = f\"Analyze the data provided and describe any trends or insights relevant to the original task. Analyze data: {task}\"\n",
        "    #webresearch_csp_result = cspolitical_agent.process(cspolitical_task, context)\n",
        "    webresearch_csp_response = webresearch_dduckgo(webresearch_csp_task)\n",
        "    #webresearch_csp_response = web_research.invoke(webresearch_csp_task)\n",
        "    webresearch_csp_result = cspolitical_agent.process(webresearch_csp_task)\n",
        "    context.append({\"role\": \"ai\", \"content\": f\"CS Political Agent: {webresearch_csp_response}\"})\n",
        "    print(f\"📋 CS Political web research results: {webresearch_csp_response[:100]}...\\n\")\n",
        "    return context"
      ],
      "metadata": {
        "id": "QU-R9ncBmxVO"
      },
      "execution_count": null,
      "outputs": []
    },
    {
      "cell_type": "code",
      "source": [
        "# Research Historical Context\n",
        "\n",
        "def research_historical_context(history_agent, task: str, context: list) -> list:\n",
        "    print(\"🏛️ History Agent: Researching historical context...\")\n",
        "    #ragcspolitical_context = context[-1][\"content\"]\n",
        "    #webresearch_csp = context[-1][\"content\"]\n",
        "    #history_task = f\"Based on the web research context, what specific data or statistical information would be helpful to answer the original question? Web research context: {webresearch_csp}\"\n",
        "    history_task = f\"Provide relevant historical context and information for the following task: {task}\"\n",
        "    history_result = history_agent.process(history_task)\n",
        "    context.append({\"role\": \"ai\", \"content\": f\"History Agent: {history_result}\"})\n",
        "    print(f\"📜 Historical context provided: {history_result[:100]}...\\n\")\n",
        "    return context"
      ],
      "metadata": {
        "id": "nri67__OC6vY"
      },
      "execution_count": null,
      "outputs": []
    },
    {
      "cell_type": "code",
      "source": [
        "# Identify Data Needs\n",
        "\n",
        "def identify_data_needs(data_agent, task: str, context: list) -> list:\n",
        "    print(\"📊 Data Agent: Identifying data needs based on historical context...\")\n",
        "    historical_context = context[-1][\"content\"]\n",
        "    data_need_task = f\"Based on the historical context, what specific data would be helpful to answer the original task. Historical context: {historical_context}\"\n",
        "    data_need_result = data_agent.process(data_need_task, context)\n",
        "    context.append({\"role\": \"ai\", \"content\": f\"Data Agent: {data_need_result}\"})\n",
        "    print(f\"🔍 Data identified: {data_need_result[:100]}...\\n\")\n",
        "    return context"
      ],
      "metadata": {
        "id": "i0KHnrIcDKTD"
      },
      "execution_count": null,
      "outputs": []
    },
    {
      "cell_type": "code",
      "source": [
        "# Provide Historical Data\n",
        "\n",
        "def provide_historical_data(history_agent, task: str, context: list) -> list:\n",
        "    print(\"🏛️ History Agent: Providing relevant historical data...\")\n",
        "    data_needs = context[-1][\"content\"]\n",
        "    data_provision_task = f\"Based on the data identified, provide relevant historical data. Data needs: {data_needs}\"\n",
        "    data_provision_result = history_agent.process(data_provision_task, context)\n",
        "    context.append({\"role\": \"ai\", \"content\": f\"History Agent: {data_provision_result}\"})\n",
        "    print(f\"📊 Historical data provided: {data_provision_result[:100]}...\\n\")\n",
        "    return context"
      ],
      "metadata": {
        "id": "BwzbghQ8Dfg9"
      },
      "execution_count": null,
      "outputs": []
    },
    {
      "cell_type": "code",
      "source": [
        "# Analyze Data\n",
        "\n",
        "def analyze_data(data_agent, task: str, context: list) -> list:\n",
        "    print(\"📈 Data Agent: Analyzing historical data...\")\n",
        "    historical_data = context[-1][\"content\"]\n",
        "    analysis_task = f\"Analyze the historical data provided and describe any trends or insights relevant to the original task. Historical data: {historical_data}\"\n",
        "    analysis_result = data_agent.process(analysis_task, context)\n",
        "    context.append({\"role\": \"ai\", \"content\": f\"Data Agent: {analysis_result}\"})\n",
        "    print(f\"💡 Data analysis results: {analysis_result[:100]}...\\n\")\n",
        "    return context"
      ],
      "metadata": {
        "id": "xjkjrUZGDsAK"
      },
      "execution_count": null,
      "outputs": []
    },
    {
      "cell_type": "code",
      "source": [
        "# Research and analysis of political science concepts\n",
        "\n",
        "def research_cspolitical_context(cspolitical_agent, task: str, context: list) -> list:\n",
        "    print(\"📚 CS Political Agent: Searching and analyzing political science concepts...\")\n",
        "    analyze_data = context[-1][\"content\"]\n",
        "    cspolitical_task = f\"Analyze the data provided as a political science expert and describe any trends or insights relevant to the original task. Analyze data: {analyze_data}\"\n",
        "    cspolitical_result = cspolitical_agent.process(cspolitical_task, context)\n",
        "    context.append({\"role\": \"ai\", \"content\": f\"CS Political Agent: {cspolitical_result}\"})\n",
        "    print(f\"📋 CS Political research and analysis results: {cspolitical_result[:100]}...\\n\")\n",
        "    return context"
      ],
      "metadata": {
        "id": "z1adkQya7lMB"
      },
      "execution_count": null,
      "outputs": []
    },
    {
      "cell_type": "code",
      "source": [
        "# Synthesize Final Answer\n",
        "\n",
        "def synthesize_final_answer(cspolitical_agent, task: str, context: list) -> str:\n",
        "    print(\"🏛️ Multi Agent: Synthesizing final answer...\")\n",
        "    synthesis_task = \"Based on all the historical context, data, and analysis, provide a comprehensive answer to the original task. Response in spanish.\"\n",
        "    final_result = cspolitical_agent.process(synthesis_task, context)\n",
        "    print(\"\\n✅ Collaboration complete.\\n\")\n",
        "    return final_result"
      ],
      "metadata": {
        "id": "A4cgglPeDKjS"
      },
      "execution_count": null,
      "outputs": []
    },
    {
      "cell_type": "markdown",
      "source": [
        "HistoryDataCollaborationSystem Class"
      ],
      "metadata": {
        "id": "R0ggfDOUFLtk"
      }
    },
    {
      "cell_type": "code",
      "source": [
        "class HistoryDataCollaborationSystem:\n",
        "    def __init__(self):\n",
        "        self.history_agent = HistoryResearchAgent() #Agent(\"Clio\", \"History Research Specialist\", [\"deep knowledge of historical events\", \"understanding of historical contexts\", \"identifying historical trends\"])\n",
        "        self.data_agent = DataAnalysisAgent() #Agent(\"Data\", \"Data Analysis Expert\", [\"interpreting numerical data\", \"statistical analysis\", \"data visualization description\"])\n",
        "        self.cspolitical_agent = PoliticalScienceExpertAgent()\n",
        "\n",
        "    def solve(self, task: str, timeout: int = 300) -> str:\n",
        "        print(f\"\\n👥 Starting collaboration to solve: {task}\\n\")\n",
        "\n",
        "        start_time = time.time()\n",
        "        context = []\n",
        "\n",
        "        steps = [\n",
        "            (research_historical_context, self.history_agent),\n",
        "            (identify_data_needs, self.data_agent),\n",
        "            (provide_historical_data, self.history_agent),\n",
        "            (analyze_data, self.data_agent),\n",
        "            (research_cspolitical_context, self.cspolitical_agent),\n",
        "            (synthesize_final_answer, self.cspolitical_agent)\n",
        "        ]\n",
        "\n",
        "        for step_func, agent in steps:\n",
        "            if time.time() - start_time > timeout:\n",
        "                return \"Operation timed out. The process took too long to complete.\"\n",
        "            try:\n",
        "                result = step_func(agent, task, context)\n",
        "                if isinstance(result, str):\n",
        "                    return result  # This is the final answer\n",
        "                context = result\n",
        "            except Exception as e:\n",
        "                return f\"Error during collaboration: {str(e)}\"\n",
        "\n",
        "        #print(\"\\n✅ Collaboration complete. Final answer synthesized.\\n\")\n",
        "        #return \"hola mundo\"#context[-1][\"content\"]\n",
        "        #print(f\"Muestro contexto: {context}\")"
      ],
      "metadata": {
        "id": "LJBcqb_c8epE"
      },
      "execution_count": null,
      "outputs": []
    },
    {
      "cell_type": "code",
      "source": [
        "print(\"*\"*100)"
      ],
      "metadata": {
        "colab": {
          "base_uri": "https://localhost:8080/"
        },
        "id": "ESdf1bOEog1m",
        "outputId": "4bfcdc69-85f1-4681-df29-d3c98aeba120"
      },
      "execution_count": null,
      "outputs": [
        {
          "output_type": "stream",
          "name": "stdout",
          "text": [
            "****************************************************************************************************\n"
          ]
        }
      ]
    },
    {
      "cell_type": "code",
      "source": [
        "steps2 = [\n",
        "            (\"Funcion 1\", \"history_agent\"),\n",
        "            (\"Funcion 2\", \"data_agent2\"),\n",
        "            (\"Funcion 3\", \"history_agent2\"),\n",
        "            (\"Funcion 4\", \"data_agent2\"),\n",
        "            (\"Funcion 5\", \"history_agent3\")\n",
        "        ]\n",
        "\n",
        "for step_func2, agent2 in steps2:\n",
        "    print(step_func2, agent2)"
      ],
      "metadata": {
        "colab": {
          "base_uri": "https://localhost:8080/"
        },
        "id": "EW3vQiG1xLub",
        "outputId": "7ee83993-4557-4bf5-e2bf-d226484dd661"
      },
      "execution_count": null,
      "outputs": [
        {
          "output_type": "stream",
          "name": "stdout",
          "text": [
            "Funcion 1 history_agent\n",
            "Funcion 2 data_agent2\n",
            "Funcion 3 history_agent2\n",
            "Funcion 4 data_agent2\n",
            "Funcion 5 history_agent3\n"
          ]
        }
      ]
    },
    {
      "cell_type": "markdown",
      "source": [
        "# Inference\n",
        "\n",
        "Example usage"
      ],
      "metadata": {
        "id": "Q-Mo95UbFih0"
      }
    },
    {
      "cell_type": "code",
      "source": [
        "# Prompt generator\n",
        "prompt_02 = \"\"\"Eres un experto en Ciencias Políticas y busqueda web, que utiliza los siguientes parametros para la creación de un prompt de busqueda web:\n",
        "Area = Ciencias Políticas\n",
        "Palabras claves = Estado, Contemporáneo, caracteristicas, causas, economía, politica, tensiones, gobernanza, desafios, Inteligencia Artificial.\n",
        "Sugerencias = Que es, cuales son las principales, cuales son las, describa las principales, como impacta, como influye.\n",
        "Ejemplos = 1\n",
        "Retorna el prompt de ejemplo en inglés seguido de \"Task: \"\n",
        "\"\"\"\n",
        "response_generator = llm_g.invoke(prompt_02)"
      ],
      "metadata": {
        "id": "de-xRV6nc0a8"
      },
      "execution_count": null,
      "outputs": []
    },
    {
      "cell_type": "code",
      "source": [
        "# Create an instance of the collaboration system\n",
        "collaboration_system = HistoryDataCollaborationSystem()\n",
        "\n",
        "# Define a complex historical question that requires both historical knowledge and data analysis\n",
        "\n",
        "# questions = [\"How did urbanization rates in Europe compare to those in North America during the Industrial Revolution, and what were the main factors influencing these trends?\",\n",
        "# \"What are the most important economic factors that caused the industrial revolution?\",\n",
        "# \"According to political science, what are the main economic causes of the modern state and its main thinkers?\",\n",
        "# \"According to political science, the modern state gave way to the contemporary state, develop the main events that triggered this change and explain the development and tensions that characterized this stage.\",\n",
        "# \"According to political science, develop and explain the main events that caused the transition from the modern state to the contemporary state, its characteristics and tensions of this stage.\"]\n",
        "task_p1 = \"What are the main characteristics of the contemporary State and how does Artificial Intelligence influence in its governance?\"\n",
        "question = task_p1\n",
        "\n",
        "# Solve the question using the collaboration system\n",
        "result = collaboration_system.solve(question)\n",
        "\n",
        "# Print the result\n",
        "#print(result)"
      ],
      "metadata": {
        "id": "RM8vSD3qFKg5",
        "colab": {
          "base_uri": "https://localhost:8080/"
        },
        "outputId": "a6e34369-c9d6-4bc8-86cd-8e4dec9af301"
      },
      "execution_count": null,
      "outputs": [
        {
          "output_type": "stream",
          "name": "stdout",
          "text": [
            "\n",
            "👥 Starting collaboration to solve: What are the main characteristics of the contemporary State and how does Artificial Intelligence influence in its governance?\n",
            "\n",
            "🏛️ History Agent: Researching historical context...\n",
            "📜 Historical context provided: The contemporary State, in its broadest definition, is a complex entity significantly different from...\n",
            "\n",
            "📊 Data Agent: Identifying data needs based on historical context...\n",
            "🔍 Data identified: To effectively analyze the influence of AI on state governance within its historical context, severa...\n",
            "\n",
            "🏛️ History Agent: Providing relevant historical data...\n",
            "📊 Historical data provided: I cannot directly provide the *data* requested.  My capabilities are limited to processing and gener...\n",
            "\n",
            "📈 Data Agent: Analyzing historical data...\n",
            "💡 Data analysis results: The provided text outlines a framework for analyzing the impact of AI on state governance, but lacks...\n",
            "\n",
            "📚 CS Political Agent: Searching and analyzing political science concepts...\n",
            "📋 CS Political research and analysis results: The analysis provided by the Data Agent, while lacking concrete data, offers a valuable framework fo...\n",
            "\n",
            "🏛️ Multi Agent: Synthesizing final answer...\n",
            "\n",
            "✅ Collaboration complete. Final answer synthesized.\n",
            "\n"
          ]
        }
      ]
    },
    {
      "cell_type": "code",
      "source": [
        "print(\"-\" * 100)  # Separator\n",
        "Console().print(Markdown(result))"
      ],
      "metadata": {
        "id": "9oxYSbuUEhQS",
        "colab": {
          "base_uri": "https://localhost:8080/",
          "height": 802
        },
        "outputId": "02faf0d4-13e7-4e04-b428-0eb7c08eabcb"
      },
      "execution_count": null,
      "outputs": [
        {
          "output_type": "stream",
          "name": "stdout",
          "text": [
            "----------------------------------------------------------------------------------------------------\n"
          ]
        },
        {
          "output_type": "display_data",
          "data": {
            "text/plain": [
              "La influencia de la inteligencia artificial (IA) en la gobernanza estatal contemporánea es un tema complejo que    \n",
              "requiere un análisis multifacético, considerando tanto su continuidad con las tendencias históricas como sus       \n",
              "desafíos novedosos.  El Estado moderno, producto de siglos de evolución, se ha visto transformado por la emergencia\n",
              "de los estados-nación, el estado de bienestar, la globalización y, ahora, la revolución digital. La IA actúa como  \n",
              "un catalizador, amplificando tendencias existentes y creando nuevas dinámicas.                                     \n",
              "\n",
              "\u001b[1mContinuidad y Cambio:\u001b[0m La búsqueda del Estado por el control y la eficiencia es una constante histórica, desde las  \n",
              "monarquías centralizadas hasta el estado de bienestar.  La IA proporciona herramientas para optimizar estos        \n",
              "objetivos: la vigilancia masiva, la toma de decisiones algorítmicas, la automatización de procesos burocráticos.   \n",
              "Sin embargo, la escala y la velocidad a la que opera la IA superan cualquier precedente histórico.  La vigilancia  \n",
              "algorítmica, por ejemplo, difiere de las formas históricas de control por su alcance y su potencial para el sesgo y\n",
              "la discriminación.  El análisis comparativo de la efectividad de métodos históricos de control con las capacidades \n",
              "de la IA es crucial.                                                                                               \n",
              "\n",
              "\u001b[1mRelación Estado-Ciudadano:\u001b[0m El estado de bienestar representó un cambio hacia una mayor intervención del Estado en  \n",
              "el bienestar ciudadano, reflejando un pacto social implícito. La IA puede fortalecer o debilitar este pacto.  Si   \n",
              "bien puede mejorar la eficiencia en la prestación de servicios públicos, el sesgo algorítmico en la asignación de  \n",
              "recursos puede exacerbar las desigualdades, erosionando la confianza ciudadana.  Es necesario comparar los impactos\n",
              "de los programas de bienestar históricos con las iniciativas impulsadas por la IA, midiendo sus efectos en         \n",
              "indicadores sociales como la pobreza y el acceso a los servicios.  La transparencia y la rendición de cuentas en   \n",
              "los sistemas algorítmicos son fundamentales para mantener la legitimidad del Estado.                               \n",
              "\n",
              "\u001b[1mGlobalización y Soberanía:\u001b[0m La globalización ha desafiado históricamente la soberanía nacional.  La IA intensifica  \n",
              "este desafío a través de las amenazas cibernéticas, la desinformación y las armas autónomas.  El análisis          \n",
              "comparativo de avances tecnológicos anteriores (telégrafo, internet) con la IA es crucial para entender su impacto \n",
              "en la soberanía.  La cooperación internacional en el desarrollo y la regulación de la IA será determinante para    \n",
              "evitar una mayor fragmentación y conflicto entre Estados.                                                          \n",
              "\n",
              "\u001b[1mCambio Tecnológico y Desigualdad:\u001b[0m  El progreso tecnológico ha generado históricamente tanto avances como           \n",
              "desigualdades.  La IA, con su potencial de automatización, plantea preocupaciones similares sobre el desplazamiento\n",
              "laboral y el acceso desigual a sus beneficios.  Un análisis exhaustivo debe considerar los impactos directos e     \n",
              "indirectos de la IA en la distribución de la riqueza, el acceso a la educación y la salud, y la participación      \n",
              "política.  La comparación con transiciones tecnológicas anteriores debe tener en cuenta la velocidad y la escala   \n",
              "del cambio actual.                                                                                                 \n",
              "\n",
              "\u001b[1mTransparencia y Rendición de Cuentas:\u001b[0m  La transparencia y la rendición de cuentas han sido históricamente procesos \n",
              "lentos e irregulares. La IA plantea un reto único debido a la opacidad de muchos algoritmos, dificultando la       \n",
              "comprensión de los procesos de toma de decisiones y la rendición de cuentas.  Es necesario desarrollar mecanismos  \n",
              "innovadores para la transparencia algorítmica y la rendición de cuentas, incluyendo nuevos marcos legales y        \n",
              "mecanismos de supervisión independientes.                                                                          \n",
              "\n",
              "\u001b[1mConclusión:\u001b[0m La IA está transformando la gobernanza estatal de manera profunda, amplificando tendencias históricas y\n",
              "generando nuevos desafíos.  Un análisis completo requiere la integración de perspectivas históricas y              \n",
              "contemporáneas, utilizando metodologías cuantitativas y cualitativas para evaluar el impacto de la IA en diversos  \n",
              "ámbitos.  La investigación futura debe centrarse en la recopilación de datos empíricos, el análisis comparativo de \n",
              "casos y el desarrollo de marcos conceptuales que permitan comprender mejor las complejas interacciones entre la IA \n",
              "y el Estado moderno.  La transparencia, la rendición de cuentas y la justicia social deben ser los principios      \n",
              "rectores en el desarrollo y la implementación de la IA en la gobernanza estatal.                                   \n"
            ],
            "text/html": [
              "<pre style=\"white-space:pre;overflow-x:auto;line-height:normal;font-family:Menlo,'DejaVu Sans Mono',consolas,'Courier New',monospace\">La influencia de la inteligencia artificial (IA) en la gobernanza estatal contemporánea es un tema complejo que    \n",
              "requiere un análisis multifacético, considerando tanto su continuidad con las tendencias históricas como sus       \n",
              "desafíos novedosos.  El Estado moderno, producto de siglos de evolución, se ha visto transformado por la emergencia\n",
              "de los estados-nación, el estado de bienestar, la globalización y, ahora, la revolución digital. La IA actúa como  \n",
              "un catalizador, amplificando tendencias existentes y creando nuevas dinámicas.                                     \n",
              "\n",
              "<span style=\"font-weight: bold\">Continuidad y Cambio:</span> La búsqueda del Estado por el control y la eficiencia es una constante histórica, desde las  \n",
              "monarquías centralizadas hasta el estado de bienestar.  La IA proporciona herramientas para optimizar estos        \n",
              "objetivos: la vigilancia masiva, la toma de decisiones algorítmicas, la automatización de procesos burocráticos.   \n",
              "Sin embargo, la escala y la velocidad a la que opera la IA superan cualquier precedente histórico.  La vigilancia  \n",
              "algorítmica, por ejemplo, difiere de las formas históricas de control por su alcance y su potencial para el sesgo y\n",
              "la discriminación.  El análisis comparativo de la efectividad de métodos históricos de control con las capacidades \n",
              "de la IA es crucial.                                                                                               \n",
              "\n",
              "<span style=\"font-weight: bold\">Relación Estado-Ciudadano:</span> El estado de bienestar representó un cambio hacia una mayor intervención del Estado en  \n",
              "el bienestar ciudadano, reflejando un pacto social implícito. La IA puede fortalecer o debilitar este pacto.  Si   \n",
              "bien puede mejorar la eficiencia en la prestación de servicios públicos, el sesgo algorítmico en la asignación de  \n",
              "recursos puede exacerbar las desigualdades, erosionando la confianza ciudadana.  Es necesario comparar los impactos\n",
              "de los programas de bienestar históricos con las iniciativas impulsadas por la IA, midiendo sus efectos en         \n",
              "indicadores sociales como la pobreza y el acceso a los servicios.  La transparencia y la rendición de cuentas en   \n",
              "los sistemas algorítmicos son fundamentales para mantener la legitimidad del Estado.                               \n",
              "\n",
              "<span style=\"font-weight: bold\">Globalización y Soberanía:</span> La globalización ha desafiado históricamente la soberanía nacional.  La IA intensifica  \n",
              "este desafío a través de las amenazas cibernéticas, la desinformación y las armas autónomas.  El análisis          \n",
              "comparativo de avances tecnológicos anteriores (telégrafo, internet) con la IA es crucial para entender su impacto \n",
              "en la soberanía.  La cooperación internacional en el desarrollo y la regulación de la IA será determinante para    \n",
              "evitar una mayor fragmentación y conflicto entre Estados.                                                          \n",
              "\n",
              "<span style=\"font-weight: bold\">Cambio Tecnológico y Desigualdad:</span>  El progreso tecnológico ha generado históricamente tanto avances como           \n",
              "desigualdades.  La IA, con su potencial de automatización, plantea preocupaciones similares sobre el desplazamiento\n",
              "laboral y el acceso desigual a sus beneficios.  Un análisis exhaustivo debe considerar los impactos directos e     \n",
              "indirectos de la IA en la distribución de la riqueza, el acceso a la educación y la salud, y la participación      \n",
              "política.  La comparación con transiciones tecnológicas anteriores debe tener en cuenta la velocidad y la escala   \n",
              "del cambio actual.                                                                                                 \n",
              "\n",
              "<span style=\"font-weight: bold\">Transparencia y Rendición de Cuentas:</span>  La transparencia y la rendición de cuentas han sido históricamente procesos \n",
              "lentos e irregulares. La IA plantea un reto único debido a la opacidad de muchos algoritmos, dificultando la       \n",
              "comprensión de los procesos de toma de decisiones y la rendición de cuentas.  Es necesario desarrollar mecanismos  \n",
              "innovadores para la transparencia algorítmica y la rendición de cuentas, incluyendo nuevos marcos legales y        \n",
              "mecanismos de supervisión independientes.                                                                          \n",
              "\n",
              "<span style=\"font-weight: bold\">Conclusión:</span> La IA está transformando la gobernanza estatal de manera profunda, amplificando tendencias históricas y\n",
              "generando nuevos desafíos.  Un análisis completo requiere la integración de perspectivas históricas y              \n",
              "contemporáneas, utilizando metodologías cuantitativas y cualitativas para evaluar el impacto de la IA en diversos  \n",
              "ámbitos.  La investigación futura debe centrarse en la recopilación de datos empíricos, el análisis comparativo de \n",
              "casos y el desarrollo de marcos conceptuales que permitan comprender mejor las complejas interacciones entre la IA \n",
              "y el Estado moderno.  La transparencia, la rendición de cuentas y la justicia social deben ser los principios      \n",
              "rectores en el desarrollo y la implementación de la IA en la gobernanza estatal.                                   \n",
              "</pre>\n"
            ]
          },
          "metadata": {}
        }
      ]
    },
    {
      "cell_type": "code",
      "source": [
        "collaboration_system2 = HistoryDataCollaborationSystem()\n",
        "\n",
        "task_p2 = \"Describe the main political and economic tensions in the contemporary State caused by development and the implementation of Artificial Intelligence.\"\n",
        "question2 = task_p2\n",
        "\n",
        "# Solve the question using the collaboration system\n",
        "result2 = collaboration_system2.solve(question2)"
      ],
      "metadata": {
        "colab": {
          "base_uri": "https://localhost:8080/"
        },
        "id": "p8grEdzAMYR8",
        "outputId": "87b7aada-21f2-4603-9b92-3efa0674c592"
      },
      "execution_count": null,
      "outputs": [
        {
          "output_type": "stream",
          "name": "stdout",
          "text": [
            "\n",
            "👥 Starting collaboration to solve: Describe the main political and economic tensions in the contemporary State caused by development and the implementation of Artificial Intelligence.\n",
            "\n",
            "🏛️ History Agent: Researching historical context...\n",
            "📜 Historical context provided: The contemporary state faces significant political and economic tensions stemming from AI developmen...\n",
            "\n",
            "📊 Data Agent: Identifying data needs based on historical context...\n",
            "🔍 Data identified: To effectively analyze the contemporary tensions surrounding AI development and implementation, and ...\n",
            "\n",
            "🏛️ History Agent: Providing relevant historical data...\n",
            "📊 Historical data provided: Unfortunately, providing the precise quantitative data requested from the historical periods mention...\n",
            "\n",
            "📈 Data Agent: Analyzing historical data...\n",
            "💡 Data analysis results: Analysis of Historical Data and Trends Relevant to AI Tensions\n",
            "\n",
            "The provided historical data, while ...\n",
            "\n",
            "📚 CS Political Agent: Searching and analyzing political science concepts...\n",
            "📋 CS Political research and analysis results: As Politic, a Political Science Expert, I find the analysis provided by the Data Agent compelling an...\n",
            "\n",
            "🏛️ Multi Agent: Synthesizing final answer...\n",
            "\n",
            "✅ Collaboration complete. Final answer synthesized.\n",
            "\n"
          ]
        }
      ]
    },
    {
      "cell_type": "code",
      "source": [
        "print(\"-\" * 100)  # Separator\n",
        "Console().print(Markdown(result2))"
      ],
      "metadata": {
        "colab": {
          "base_uri": "https://localhost:8080/",
          "height": 978
        },
        "id": "fyv7Veb9MZE0",
        "outputId": "99b9dc03-358c-4392-d987-9fe49df802bb"
      },
      "execution_count": null,
      "outputs": [
        {
          "output_type": "stream",
          "name": "stdout",
          "text": [
            "----------------------------------------------------------------------------------------------------\n"
          ]
        },
        {
          "output_type": "display_data",
          "data": {
            "text/plain": [
              "Las tensiones políticas y económicas contemporáneas derivadas del desarrollo e implementación de la IA hacen eco de\n",
              "las ansiedades históricas en torno a los avances tecnológicos.  Como experto en ciencia política, puedo afirmar que\n",
              "comprender estas tensiones requiere un análisis que integre la perspectiva histórica con el contexto actual.       \n",
              "\n",
              "\u001b[1mParalelos históricos:\u001b[0m                                                                                              \n",
              "\n",
              "El análisis de la Historia Agent identifica correctamente paralelos cruciales: el movimiento ludita, la Segunda    \n",
              "Revolución Industrial, la carrera armamentística de la Guerra Fría y el auge de internet y la globalización.  Cada \n",
              "uno de estos periodos evidenció tensiones similares a las actuales: desplazamiento laboral, desigualdad económica, \n",
              "concentración del poder y preocupaciones éticas.  Sin embargo, la escala, velocidad y complejidad del desarrollo de\n",
              "la IA presentan desafíos únicos.                                                                                   \n",
              "\n",
              "\u001b[1mAnálisis de la Data Agent:\u001b[0m                                                                                         \n",
              "\n",
              "La Data Agent destaca acertadamente la necesidad de datos cuantitativos y cualitativos tanto históricos como       \n",
              "contemporáneos para una comprensión completa.  Si bien la recopilación de datos precisos de periodos históricos es \n",
              "difícil, la Data Agent proporciona valiosas sugerencias para la investigación en archivos y bases de datos         \n",
              "especializados.  La identificación de tendencias recurrentes –desplazamiento tecnológico, concentración del poder, \n",
              "preocupaciones éticas e imprevisibilidad– es crucial.  La ausencia de datos cuantitativos históricos precisos      \n",
              "subraya la necesidad de una recolección de datos rigurosa en el presente para informar las decisiones políticas    \n",
              "futuras.                                                                                                           \n",
              "\n",
              "\u001b[1mPerspectiva de la Ciencia Política (Politic):\u001b[0m                                                                      \n",
              "\n",
              "La perspectiva de la ciencia política añade una capa crucial al análisis.  No se trata solo de identificar patrones\n",
              "históricos, sino de comprender los mecanismos políticos que moldean la respuesta a estos desafíos.  La voluntad    \n",
              "política para implementar estrategias de mitigación (redes de seguridad social, programas de reciclaje profesional)\n",
              "será fundamental para determinar el impacto social del desplazamiento laboral impulsado por la IA.  La falta de    \n",
              "esta voluntad política podría provocar inestabilidad social y política.                                            \n",
              "\n",
              "La concentración del poder en manos de unas pocas empresas tecnológicas plantea preocupaciones sobre la regulación \n",
              "del mercado, las leyes antimonopolio y la influencia indebida en los procesos políticos.  La ciencia política      \n",
              "proporciona marcos para analizar las dinámicas de poder, el cabildeo y la captura regulatoria, elementos cruciales \n",
              "para comprender la influencia de estas empresas.                                                                   \n",
              "\n",
              "Las preocupaciones éticas son intrínsecamente políticas.  El debate sobre las armas autónomas, por ejemplo,        \n",
              "involucra la naturaleza de la guerra, el derecho internacional y el papel de la agencia humana.  La ciencia        \n",
              "política ayuda a comprender cómo diferentes actores enmarcan estos debates y cómo estos marcos influyen en los     \n",
              "resultados políticos.                                                                                              \n",
              "\n",
              "La imprevisibilidad del cambio tecnológico exige estructuras de gobernanza adaptativas.  Una regulación rígida     \n",
              "puede sofocar la innovación, mientras que la ausencia de regulación puede llevar a consecuencias catastróficas. La \n",
              "ciencia política ofrece modelos para la toma de decisiones en condiciones de incertidumbre, incluyendo mecanismos  \n",
              "para ajustes iterativos de políticas, participación pública y mecanismos de rendición de cuentas.                  \n",
              "\n",
              "El contexto político –ideología, cohesión social, fortaleza institucional– influye significativamente en la        \n",
              "respuesta a los cambios tecnológicos.  Una nación con sólidas redes de seguridad social estará mejor preparada para\n",
              "gestionar las consecuencias negativas de la IA que una nación con un enfoque más liberal.                          \n",
              "\n",
              "\u001b[1mConclusión:\u001b[0m                                                                                                        \n",
              "\n",
              "Las tensiones contemporáneas en torno a la IA no son completamente novedosas; representan una continuación de las  \n",
              "ansiedades históricas sobre el cambio tecnológico, la desigualdad económica y la concentración del poder.  Sin     \n",
              "embargo, la escala, velocidad y complejidad del desarrollo de la IA presentan desafíos únicos que requieren        \n",
              "soluciones innovadoras y una comprensión matizada de los precedentes históricos para mitigar las consecuencias     \n",
              "negativas y aprovechar el potencial transformador de esta tecnología.  La respuesta efectiva requiere una          \n",
              "comprensión profunda de las dinámicas políticas y la voluntad política para implementar estrategias de mitigación y\n",
              "regulación adecuadas.  La inversión en la recopilación y el análisis de datos robustos es esencial para informar   \n",
              "las decisiones políticas futuras y evitar la repetición de errores del pasado.                                     \n"
            ],
            "text/html": [
              "<pre style=\"white-space:pre;overflow-x:auto;line-height:normal;font-family:Menlo,'DejaVu Sans Mono',consolas,'Courier New',monospace\">Las tensiones políticas y económicas contemporáneas derivadas del desarrollo e implementación de la IA hacen eco de\n",
              "las ansiedades históricas en torno a los avances tecnológicos.  Como experto en ciencia política, puedo afirmar que\n",
              "comprender estas tensiones requiere un análisis que integre la perspectiva histórica con el contexto actual.       \n",
              "\n",
              "<span style=\"font-weight: bold\">Paralelos históricos:</span>                                                                                              \n",
              "\n",
              "El análisis de la Historia Agent identifica correctamente paralelos cruciales: el movimiento ludita, la Segunda    \n",
              "Revolución Industrial, la carrera armamentística de la Guerra Fría y el auge de internet y la globalización.  Cada \n",
              "uno de estos periodos evidenció tensiones similares a las actuales: desplazamiento laboral, desigualdad económica, \n",
              "concentración del poder y preocupaciones éticas.  Sin embargo, la escala, velocidad y complejidad del desarrollo de\n",
              "la IA presentan desafíos únicos.                                                                                   \n",
              "\n",
              "<span style=\"font-weight: bold\">Análisis de la Data Agent:</span>                                                                                         \n",
              "\n",
              "La Data Agent destaca acertadamente la necesidad de datos cuantitativos y cualitativos tanto históricos como       \n",
              "contemporáneos para una comprensión completa.  Si bien la recopilación de datos precisos de periodos históricos es \n",
              "difícil, la Data Agent proporciona valiosas sugerencias para la investigación en archivos y bases de datos         \n",
              "especializados.  La identificación de tendencias recurrentes –desplazamiento tecnológico, concentración del poder, \n",
              "preocupaciones éticas e imprevisibilidad– es crucial.  La ausencia de datos cuantitativos históricos precisos      \n",
              "subraya la necesidad de una recolección de datos rigurosa en el presente para informar las decisiones políticas    \n",
              "futuras.                                                                                                           \n",
              "\n",
              "<span style=\"font-weight: bold\">Perspectiva de la Ciencia Política (Politic):</span>                                                                      \n",
              "\n",
              "La perspectiva de la ciencia política añade una capa crucial al análisis.  No se trata solo de identificar patrones\n",
              "históricos, sino de comprender los mecanismos políticos que moldean la respuesta a estos desafíos.  La voluntad    \n",
              "política para implementar estrategias de mitigación (redes de seguridad social, programas de reciclaje profesional)\n",
              "será fundamental para determinar el impacto social del desplazamiento laboral impulsado por la IA.  La falta de    \n",
              "esta voluntad política podría provocar inestabilidad social y política.                                            \n",
              "\n",
              "La concentración del poder en manos de unas pocas empresas tecnológicas plantea preocupaciones sobre la regulación \n",
              "del mercado, las leyes antimonopolio y la influencia indebida en los procesos políticos.  La ciencia política      \n",
              "proporciona marcos para analizar las dinámicas de poder, el cabildeo y la captura regulatoria, elementos cruciales \n",
              "para comprender la influencia de estas empresas.                                                                   \n",
              "\n",
              "Las preocupaciones éticas son intrínsecamente políticas.  El debate sobre las armas autónomas, por ejemplo,        \n",
              "involucra la naturaleza de la guerra, el derecho internacional y el papel de la agencia humana.  La ciencia        \n",
              "política ayuda a comprender cómo diferentes actores enmarcan estos debates y cómo estos marcos influyen en los     \n",
              "resultados políticos.                                                                                              \n",
              "\n",
              "La imprevisibilidad del cambio tecnológico exige estructuras de gobernanza adaptativas.  Una regulación rígida     \n",
              "puede sofocar la innovación, mientras que la ausencia de regulación puede llevar a consecuencias catastróficas. La \n",
              "ciencia política ofrece modelos para la toma de decisiones en condiciones de incertidumbre, incluyendo mecanismos  \n",
              "para ajustes iterativos de políticas, participación pública y mecanismos de rendición de cuentas.                  \n",
              "\n",
              "El contexto político –ideología, cohesión social, fortaleza institucional– influye significativamente en la        \n",
              "respuesta a los cambios tecnológicos.  Una nación con sólidas redes de seguridad social estará mejor preparada para\n",
              "gestionar las consecuencias negativas de la IA que una nación con un enfoque más liberal.                          \n",
              "\n",
              "<span style=\"font-weight: bold\">Conclusión:</span>                                                                                                        \n",
              "\n",
              "Las tensiones contemporáneas en torno a la IA no son completamente novedosas; representan una continuación de las  \n",
              "ansiedades históricas sobre el cambio tecnológico, la desigualdad económica y la concentración del poder.  Sin     \n",
              "embargo, la escala, velocidad y complejidad del desarrollo de la IA presentan desafíos únicos que requieren        \n",
              "soluciones innovadoras y una comprensión matizada de los precedentes históricos para mitigar las consecuencias     \n",
              "negativas y aprovechar el potencial transformador de esta tecnología.  La respuesta efectiva requiere una          \n",
              "comprensión profunda de las dinámicas políticas y la voluntad política para implementar estrategias de mitigación y\n",
              "regulación adecuadas.  La inversión en la recopilación y el análisis de datos robustos es esencial para informar   \n",
              "las decisiones políticas futuras y evitar la repetición de errores del pasado.                                     \n",
              "</pre>\n"
            ]
          },
          "metadata": {}
        }
      ]
    },
    {
      "cell_type": "code",
      "source": [
        "# Prompt generator\n",
        "prompt_02 = \"\"\"Eres un experto en Ciencias Políticas y busqueda web, que utiliza los siguientes parametros para la creación de un prompt de busqueda web:\n",
        "Area = Ciencias Políticas\n",
        "Palabras claves = Estado, Contemporáneo, caracteristicas, causas, economía, politica, tensiones, gobernanza, desafios, Inteligencia Artificial.\n",
        "Sugerencias = Que es, cuales son las principales, cuales son las, describa las principales, como impacta, como influye.\n",
        "Ejemplos = 1\n",
        "Retorna el prompt de ejemplo en inglés dentro de:\" \"\n",
        "\"\"\"\n",
        "response_generator = llm_g.invoke(prompt_02)"
      ],
      "metadata": {
        "id": "H-hoB0TzMZgA"
      },
      "execution_count": null,
      "outputs": []
    },
    {
      "cell_type": "code",
      "source": [
        "print(response_generator)"
      ],
      "metadata": {
        "colab": {
          "base_uri": "https://localhost:8080/"
        },
        "id": "BdPrmxEygcBv",
        "outputId": "b1a58a73-afcd-4d60-9e42-9467ce5c3fe5"
      },
      "execution_count": null,
      "outputs": [
        {
          "output_type": "stream",
          "name": "stdout",
          "text": [
            "\"What are the main characteristics of the contemporary state, its causes, and its relationship with economics and politics?  How do tensions between governance challenges and the impact of Artificial Intelligence influence the contemporary state?\"\n",
            "\n"
          ]
        }
      ]
    },
    {
      "cell_type": "code",
      "source": [
        "collaboration_system3 = HistoryDataCollaborationSystem()\n",
        "\n",
        "#task_p2 = \"Describe the main political and economic tensions in the contemporary State caused by development and the implementation of Artificial Intelligence.\"\n",
        "question3 = response_generator\n",
        "\n",
        "# Solve the question using the collaboration system\n",
        "result3 = collaboration_system3.solve(question3)"
      ],
      "metadata": {
        "colab": {
          "base_uri": "https://localhost:8080/"
        },
        "id": "jsQviXQkeQmY",
        "outputId": "5d0dca44-c48f-4e2e-b88a-2e146ebb437e"
      },
      "execution_count": null,
      "outputs": [
        {
          "output_type": "stream",
          "name": "stdout",
          "text": [
            "\n",
            "👥 Starting collaboration to solve: \"What are the main characteristics of the contemporary state, its causes, and its relationship with economics and politics?  How do tensions between governance challenges and the impact of Artificial Intelligence influence the contemporary state?\"\n",
            "\n",
            "\n",
            "🏛️ History Agent: Researching historical context...\n",
            "📜 Historical context provided: The contemporary state, a complex entity vastly different from its predecessors, is characterized by...\n",
            "\n",
            "📊 Data Agent: Identifying data needs based on historical context...\n",
            "🔍 Data identified: To effectively analyze the contemporary state and its relationship with AI, based on the provided hi...\n",
            "\n",
            "🏛️ History Agent: Providing relevant historical data...\n",
            "📊 Historical data provided: As Clio, the History Research Specialist, I cannot directly provide the specific quantitative data r...\n",
            "\n",
            "📈 Data Agent: Analyzing historical data...\n",
            "💡 Data analysis results: The provided historical overview lacks the quantitative data necessary for robust trend analysis.  H...\n",
            "\n",
            "📚 CS Political Agent: Searching and analyzing political science concepts...\n",
            "📋 CS Political research and analysis results: As Politic, the Political Science Expert, I concur with the Data Agent's assessment.  The provided h...\n",
            "\n",
            "🏛️ Multi Agent: Synthesizing final answer...\n",
            "\n",
            "✅ Collaboration complete.\n",
            "\n"
          ]
        }
      ]
    },
    {
      "cell_type": "code",
      "source": [
        "print(\"-\" * 100)  # Separator\n",
        "Console().print(Markdown(result3))"
      ],
      "metadata": {
        "colab": {
          "base_uri": "https://localhost:8080/",
          "height": 866
        },
        "id": "33YMS50QeQw9",
        "outputId": "77abffd3-571e-49cb-e0ce-b4cf6f76f03f"
      },
      "execution_count": null,
      "outputs": [
        {
          "output_type": "stream",
          "name": "stdout",
          "text": [
            "----------------------------------------------------------------------------------------------------\n"
          ]
        },
        {
          "output_type": "display_data",
          "data": {
            "text/plain": [
              "Basado en el contexto histórico, los datos y el análisis proporcionados, podemos concluir que el Estado            \n",
              "contemporáneo es una entidad compleja y dinámica, radicalmente diferente de sus predecesores, caracterizada por una\n",
              "serie de rasgos interconectados que requieren un análisis multifacético.  No es posible ofrecer una respuesta      \n",
              "definitiva sin datos cuantitativos exhaustivos, pero podemos esbozar una comprensión general, destacando las       \n",
              "limitaciones de la información disponible.                                                                         \n",
              "\n",
              "\u001b[1mCaracterísticas Principales del Estado Contemporáneo:\u001b[0m                                                              \n",
              "\n",
              "El Estado contemporáneo se caracteriza por una mayor capacidad de intervención en la sociedad, aunque con          \n",
              "variaciones significativas entre países. Esto se refleja en burocracias más sofisticadas, sistemas tributarios más \n",
              "complejos y una mayor capacidad para hacer cumplir las leyes.  La globalización e interdependencia han generado una\n",
              "complejidad adicional, desafiando la soberanía estatal tradicional a través de organizaciones supranacionales y la \n",
              "cooperación internacional en temas cruciales.  La provisión del Estado de bienestar, aunque variable en su alcance,\n",
              "es otro rasgo distintivo, con un impacto significativo en la vida social y económica de los ciudadanos.  La mayoría\n",
              "de los Estados contemporáneos se presentan como democráticos (o parcialmente democráticos), aunque la calidad de la\n",
              "democracia varía considerablemente, con desafíos como la corrupción y la polarización. Finalmente, la dependencia  \n",
              "tecnológica, especialmente la influencia de la IA, redefine las capacidades estatales, presentando tanto           \n",
              "oportunidades (mejora de la eficiencia, análisis de datos) como riesgos (sesgos algorítmicos, vigilancia masiva,   \n",
              "desplazamiento laboral).                                                                                           \n",
              "\n",
              "\u001b[1mCausas Históricas:\u001b[0m                                                                                                 \n",
              "\n",
              "La configuración del Estado contemporáneo es el resultado de un proceso histórico complejo.  La Paz de Westfalia   \n",
              "(1648) sentó las bases del sistema estatal moderno, estableciendo el principio de soberanía.  El auge del          \n",
              "nacionalismo en los siglos XIX y XX impulsó la formación de nuevos Estados-nación.  La industrialización y el      \n",
              "capitalismo transformaron las estructuras económicas, requiriendo una mayor intervención estatal.  Las guerras     \n",
              "mundiales y la descolonización reconfiguraron el mapa político global, dando lugar a numerosos nuevos Estados.     \n",
              "\n",
              "\u001b[1mLa Relación con la Economía y la Política:\u001b[0m                                                                         \n",
              "\n",
              "La interdependencia entre el Estado, la economía y la política es innegable. Las políticas económicas del Estado   \n",
              "moldean el panorama social y político, mientras que el sistema político influye en el desempeño económico. La      \n",
              "teoría económica keynesiana, por ejemplo, tuvo un impacto profundo en el papel del Estado en la gestión de la      \n",
              "economía después de la Segunda Guerra Mundial.                                                                     \n",
              "\n",
              "\u001b[1mEl Desafío de la IA:\u001b[0m                                                                                               \n",
              "\n",
              "La IA presenta una doble cara para el Estado.  Puede mejorar la capacidad estatal, pero también plantea desafíos   \n",
              "éticos y políticos significativos.  El sesgo algorítmico, la privacidad de los datos, el desplazamiento laboral y  \n",
              "el desarrollo de sistemas de armas autónomas son preocupaciones centrales que requieren una regulación cuidadosa y \n",
              "una consideración ética profunda.                                                                                  \n",
              "\n",
              "\u001b[1mLimitaciones del Análisis:\u001b[0m                                                                                         \n",
              "\n",
              "Es crucial enfatizar que el análisis anterior se basa en una descripción cualitativa.  La falta de datos           \n",
              "cuantitativos impide un análisis riguroso de las tendencias identificadas.  Para una comprensión más completa, se  \n",
              "necesita una investigación cuantitativa que permita comparar las capacidades estatales a lo largo del tiempo y     \n",
              "entre países, medir el impacto de la globalización, evaluar la eficacia de los Estados de bienestar y analizar la  \n",
              "influencia de la IA en la gobernanza.  Solo con datos comparativos y análisis estadísticos podremos obtener        \n",
              "conclusiones más robustas y matizadas sobre la evolución del Estado contemporáneo y su compleja interacción con la \n",
              "inteligencia artificial.  El análisis actual debe considerarse, por lo tanto, como un punto de partida para una    \n",
              "investigación más profunda y completa.                                                                             \n"
            ],
            "text/html": [
              "<pre style=\"white-space:pre;overflow-x:auto;line-height:normal;font-family:Menlo,'DejaVu Sans Mono',consolas,'Courier New',monospace\">Basado en el contexto histórico, los datos y el análisis proporcionados, podemos concluir que el Estado            \n",
              "contemporáneo es una entidad compleja y dinámica, radicalmente diferente de sus predecesores, caracterizada por una\n",
              "serie de rasgos interconectados que requieren un análisis multifacético.  No es posible ofrecer una respuesta      \n",
              "definitiva sin datos cuantitativos exhaustivos, pero podemos esbozar una comprensión general, destacando las       \n",
              "limitaciones de la información disponible.                                                                         \n",
              "\n",
              "<span style=\"font-weight: bold\">Características Principales del Estado Contemporáneo:</span>                                                              \n",
              "\n",
              "El Estado contemporáneo se caracteriza por una mayor capacidad de intervención en la sociedad, aunque con          \n",
              "variaciones significativas entre países. Esto se refleja en burocracias más sofisticadas, sistemas tributarios más \n",
              "complejos y una mayor capacidad para hacer cumplir las leyes.  La globalización e interdependencia han generado una\n",
              "complejidad adicional, desafiando la soberanía estatal tradicional a través de organizaciones supranacionales y la \n",
              "cooperación internacional en temas cruciales.  La provisión del Estado de bienestar, aunque variable en su alcance,\n",
              "es otro rasgo distintivo, con un impacto significativo en la vida social y económica de los ciudadanos.  La mayoría\n",
              "de los Estados contemporáneos se presentan como democráticos (o parcialmente democráticos), aunque la calidad de la\n",
              "democracia varía considerablemente, con desafíos como la corrupción y la polarización. Finalmente, la dependencia  \n",
              "tecnológica, especialmente la influencia de la IA, redefine las capacidades estatales, presentando tanto           \n",
              "oportunidades (mejora de la eficiencia, análisis de datos) como riesgos (sesgos algorítmicos, vigilancia masiva,   \n",
              "desplazamiento laboral).                                                                                           \n",
              "\n",
              "<span style=\"font-weight: bold\">Causas Históricas:</span>                                                                                                 \n",
              "\n",
              "La configuración del Estado contemporáneo es el resultado de un proceso histórico complejo.  La Paz de Westfalia   \n",
              "(1648) sentó las bases del sistema estatal moderno, estableciendo el principio de soberanía.  El auge del          \n",
              "nacionalismo en los siglos XIX y XX impulsó la formación de nuevos Estados-nación.  La industrialización y el      \n",
              "capitalismo transformaron las estructuras económicas, requiriendo una mayor intervención estatal.  Las guerras     \n",
              "mundiales y la descolonización reconfiguraron el mapa político global, dando lugar a numerosos nuevos Estados.     \n",
              "\n",
              "<span style=\"font-weight: bold\">La Relación con la Economía y la Política:</span>                                                                         \n",
              "\n",
              "La interdependencia entre el Estado, la economía y la política es innegable. Las políticas económicas del Estado   \n",
              "moldean el panorama social y político, mientras que el sistema político influye en el desempeño económico. La      \n",
              "teoría económica keynesiana, por ejemplo, tuvo un impacto profundo en el papel del Estado en la gestión de la      \n",
              "economía después de la Segunda Guerra Mundial.                                                                     \n",
              "\n",
              "<span style=\"font-weight: bold\">El Desafío de la IA:</span>                                                                                               \n",
              "\n",
              "La IA presenta una doble cara para el Estado.  Puede mejorar la capacidad estatal, pero también plantea desafíos   \n",
              "éticos y políticos significativos.  El sesgo algorítmico, la privacidad de los datos, el desplazamiento laboral y  \n",
              "el desarrollo de sistemas de armas autónomas son preocupaciones centrales que requieren una regulación cuidadosa y \n",
              "una consideración ética profunda.                                                                                  \n",
              "\n",
              "<span style=\"font-weight: bold\">Limitaciones del Análisis:</span>                                                                                         \n",
              "\n",
              "Es crucial enfatizar que el análisis anterior se basa en una descripción cualitativa.  La falta de datos           \n",
              "cuantitativos impide un análisis riguroso de las tendencias identificadas.  Para una comprensión más completa, se  \n",
              "necesita una investigación cuantitativa que permita comparar las capacidades estatales a lo largo del tiempo y     \n",
              "entre países, medir el impacto de la globalización, evaluar la eficacia de los Estados de bienestar y analizar la  \n",
              "influencia de la IA en la gobernanza.  Solo con datos comparativos y análisis estadísticos podremos obtener        \n",
              "conclusiones más robustas y matizadas sobre la evolución del Estado contemporáneo y su compleja interacción con la \n",
              "inteligencia artificial.  El análisis actual debe considerarse, por lo tanto, como un punto de partida para una    \n",
              "investigación más profunda y completa.                                                                             \n",
              "</pre>\n"
            ]
          },
          "metadata": {}
        }
      ]
    },
    {
      "cell_type": "markdown",
      "source": [
        "# Resources\n",
        "\n",
        "* [API de Gemini](https://ai.google.dev/gemini-api/docs?hl=es-419)\n",
        "* [LangChain](https://python.langchain.com/docs/introduction/)\n",
        "* [BeyondLLM](https://beyondllm.aiplanet.com/)"
      ],
      "metadata": {
        "id": "AQ_Xzkkvl-ai"
      }
    }
  ]
}